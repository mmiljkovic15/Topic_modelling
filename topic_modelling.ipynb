{
 "cells": [
  {
   "cell_type": "markdown",
   "metadata": {},
   "source": [
    "# Import necessary libraries"
   ]
  },
  {
   "cell_type": "code",
   "execution_count": 193,
   "metadata": {
    "collapsed": true
   },
   "outputs": [],
   "source": [
    "import pandas as pd\n",
    "import numpy as np\n",
    "import nltk\n",
    "from nltk.tokenize import word_tokenize\n",
    "from sklearn.feature_extraction.text import CountVectorizer\n",
    "import re\n",
    "import distance as dist\n",
    "import difflib\n",
    "import jellyfish"
   ]
  },
  {
   "cell_type": "markdown",
   "metadata": {},
   "source": [
    "# Read tweets"
   ]
  },
  {
   "cell_type": "code",
   "execution_count": 208,
   "metadata": {
    "scrolled": true
   },
   "outputs": [
    {
     "name": "stderr",
     "output_type": "stream",
     "text": [
      "C:\\Users\\Marija.Miljkovic\\Anaconda3\\lib\\site-packages\\IPython\\core\\interactiveshell.py:2698: DtypeWarning: Columns (15,60,61,62,63,64,65) have mixed types. Specify dtype option on import or set low_memory=False.\n",
      "  interactivity=interactivity, compiler=compiler, result=result)\n"
     ]
    },
    {
     "data": {
      "text/html": [
       "<div>\n",
       "<style scoped>\n",
       "    .dataframe tbody tr th:only-of-type {\n",
       "        vertical-align: middle;\n",
       "    }\n",
       "\n",
       "    .dataframe tbody tr th {\n",
       "        vertical-align: top;\n",
       "    }\n",
       "\n",
       "    .dataframe thead th {\n",
       "        text-align: right;\n",
       "    }\n",
       "</style>\n",
       "<table border=\"1\" class=\"dataframe\">\n",
       "  <thead>\n",
       "    <tr style=\"text-align: right;\">\n",
       "      <th></th>\n",
       "      <th>user_id</th>\n",
       "      <th>status_id</th>\n",
       "      <th>created_at</th>\n",
       "      <th>screen_name</th>\n",
       "      <th>text</th>\n",
       "      <th>source</th>\n",
       "      <th>display_text_width</th>\n",
       "      <th>reply_to_status_id</th>\n",
       "      <th>reply_to_user_id</th>\n",
       "      <th>reply_to_screen_name</th>\n",
       "      <th>...</th>\n",
       "      <th>statuses_count</th>\n",
       "      <th>favourites_count</th>\n",
       "      <th>account_created_at</th>\n",
       "      <th>verified</th>\n",
       "      <th>profile_url</th>\n",
       "      <th>profile_expanded_url</th>\n",
       "      <th>account_lang</th>\n",
       "      <th>profile_banner_url</th>\n",
       "      <th>profile_background_url</th>\n",
       "      <th>profile_image_url</th>\n",
       "    </tr>\n",
       "  </thead>\n",
       "  <tbody>\n",
       "    <tr>\n",
       "      <th>0</th>\n",
       "      <td>25073877</td>\n",
       "      <td>1041493551446675456</td>\n",
       "      <td>2018-09-17T01:06:27Z</td>\n",
       "      <td>realDonaldTrump</td>\n",
       "      <td>Consumer Sentiment hit its highest level in 17...</td>\n",
       "      <td>Twitter for iPhone</td>\n",
       "      <td>151</td>\n",
       "      <td>NaN</td>\n",
       "      <td>NaN</td>\n",
       "      <td>NaN</td>\n",
       "      <td>...</td>\n",
       "      <td>38973</td>\n",
       "      <td>25</td>\n",
       "      <td>2009-03-18T13:46:38Z</td>\n",
       "      <td>True</td>\n",
       "      <td>https://t.co/OMxB0x7xC5</td>\n",
       "      <td>http://www.Instagram.com/realDonaldTrump</td>\n",
       "      <td>en</td>\n",
       "      <td>https://pbs.twimg.com/profile_banners/25073877...</td>\n",
       "      <td>http://abs.twimg.com/images/themes/theme1/bg.png</td>\n",
       "      <td>http://pbs.twimg.com/profile_images/8742761973...</td>\n",
       "    </tr>\n",
       "    <tr>\n",
       "      <th>1</th>\n",
       "      <td>25073877</td>\n",
       "      <td>1041451203442487297</td>\n",
       "      <td>2018-09-16T22:18:10Z</td>\n",
       "      <td>realDonaldTrump</td>\n",
       "      <td>Best economic numbers in decades. If the Democ...</td>\n",
       "      <td>Twitter for iPhone</td>\n",
       "      <td>99</td>\n",
       "      <td>NaN</td>\n",
       "      <td>NaN</td>\n",
       "      <td>NaN</td>\n",
       "      <td>...</td>\n",
       "      <td>38973</td>\n",
       "      <td>25</td>\n",
       "      <td>2009-03-18T13:46:38Z</td>\n",
       "      <td>True</td>\n",
       "      <td>https://t.co/OMxB0x7xC5</td>\n",
       "      <td>http://www.Instagram.com/realDonaldTrump</td>\n",
       "      <td>en</td>\n",
       "      <td>https://pbs.twimg.com/profile_banners/25073877...</td>\n",
       "      <td>http://abs.twimg.com/images/themes/theme1/bg.png</td>\n",
       "      <td>http://pbs.twimg.com/profile_images/8742761973...</td>\n",
       "    </tr>\n",
       "    <tr>\n",
       "      <th>2</th>\n",
       "      <td>25073877</td>\n",
       "      <td>1041441676949184512</td>\n",
       "      <td>2018-09-16T21:40:19Z</td>\n",
       "      <td>realDonaldTrump</td>\n",
       "      <td>Watch @MariaBartiromo at 6:00 P.M. on @FoxBusi...</td>\n",
       "      <td>Twitter for iPhone</td>\n",
       "      <td>172</td>\n",
       "      <td>NaN</td>\n",
       "      <td>NaN</td>\n",
       "      <td>NaN</td>\n",
       "      <td>...</td>\n",
       "      <td>38973</td>\n",
       "      <td>25</td>\n",
       "      <td>2009-03-18T13:46:38Z</td>\n",
       "      <td>True</td>\n",
       "      <td>https://t.co/OMxB0x7xC5</td>\n",
       "      <td>http://www.Instagram.com/realDonaldTrump</td>\n",
       "      <td>en</td>\n",
       "      <td>https://pbs.twimg.com/profile_banners/25073877...</td>\n",
       "      <td>http://abs.twimg.com/images/themes/theme1/bg.png</td>\n",
       "      <td>http://pbs.twimg.com/profile_images/8742761973...</td>\n",
       "    </tr>\n",
       "    <tr>\n",
       "      <th>3</th>\n",
       "      <td>25073877</td>\n",
       "      <td>1041438771366060034</td>\n",
       "      <td>2018-09-16T21:28:46Z</td>\n",
       "      <td>realDonaldTrump</td>\n",
       "      <td>Congratulations to all of our Mexican friends ...</td>\n",
       "      <td>Twitter for iPhone</td>\n",
       "      <td>115</td>\n",
       "      <td>NaN</td>\n",
       "      <td>NaN</td>\n",
       "      <td>NaN</td>\n",
       "      <td>...</td>\n",
       "      <td>38973</td>\n",
       "      <td>25</td>\n",
       "      <td>2009-03-18T13:46:38Z</td>\n",
       "      <td>True</td>\n",
       "      <td>https://t.co/OMxB0x7xC5</td>\n",
       "      <td>http://www.Instagram.com/realDonaldTrump</td>\n",
       "      <td>en</td>\n",
       "      <td>https://pbs.twimg.com/profile_banners/25073877...</td>\n",
       "      <td>http://abs.twimg.com/images/themes/theme1/bg.png</td>\n",
       "      <td>http://pbs.twimg.com/profile_images/8742761973...</td>\n",
       "    </tr>\n",
       "    <tr>\n",
       "      <th>4</th>\n",
       "      <td>25073877</td>\n",
       "      <td>1041380969377406981</td>\n",
       "      <td>2018-09-16T17:39:05Z</td>\n",
       "      <td>realDonaldTrump</td>\n",
       "      <td>.@DevinNunes: “I think full transparency is in...</td>\n",
       "      <td>Twitter for iPhone</td>\n",
       "      <td>127</td>\n",
       "      <td>NaN</td>\n",
       "      <td>NaN</td>\n",
       "      <td>NaN</td>\n",
       "      <td>...</td>\n",
       "      <td>38973</td>\n",
       "      <td>25</td>\n",
       "      <td>2009-03-18T13:46:38Z</td>\n",
       "      <td>True</td>\n",
       "      <td>https://t.co/OMxB0x7xC5</td>\n",
       "      <td>http://www.Instagram.com/realDonaldTrump</td>\n",
       "      <td>en</td>\n",
       "      <td>https://pbs.twimg.com/profile_banners/25073877...</td>\n",
       "      <td>http://abs.twimg.com/images/themes/theme1/bg.png</td>\n",
       "      <td>http://pbs.twimg.com/profile_images/8742761973...</td>\n",
       "    </tr>\n",
       "  </tbody>\n",
       "</table>\n",
       "<p>5 rows × 88 columns</p>\n",
       "</div>"
      ],
      "text/plain": [
       "    user_id            status_id            created_at      screen_name  \\\n",
       "0  25073877  1041493551446675456  2018-09-17T01:06:27Z  realDonaldTrump   \n",
       "1  25073877  1041451203442487297  2018-09-16T22:18:10Z  realDonaldTrump   \n",
       "2  25073877  1041441676949184512  2018-09-16T21:40:19Z  realDonaldTrump   \n",
       "3  25073877  1041438771366060034  2018-09-16T21:28:46Z  realDonaldTrump   \n",
       "4  25073877  1041380969377406981  2018-09-16T17:39:05Z  realDonaldTrump   \n",
       "\n",
       "                                                text              source  \\\n",
       "0  Consumer Sentiment hit its highest level in 17...  Twitter for iPhone   \n",
       "1  Best economic numbers in decades. If the Democ...  Twitter for iPhone   \n",
       "2  Watch @MariaBartiromo at 6:00 P.M. on @FoxBusi...  Twitter for iPhone   \n",
       "3  Congratulations to all of our Mexican friends ...  Twitter for iPhone   \n",
       "4  .@DevinNunes: “I think full transparency is in...  Twitter for iPhone   \n",
       "\n",
       "   display_text_width  reply_to_status_id  reply_to_user_id  \\\n",
       "0                 151                 NaN               NaN   \n",
       "1                  99                 NaN               NaN   \n",
       "2                 172                 NaN               NaN   \n",
       "3                 115                 NaN               NaN   \n",
       "4                 127                 NaN               NaN   \n",
       "\n",
       "  reply_to_screen_name                        ...                          \\\n",
       "0                  NaN                        ...                           \n",
       "1                  NaN                        ...                           \n",
       "2                  NaN                        ...                           \n",
       "3                  NaN                        ...                           \n",
       "4                  NaN                        ...                           \n",
       "\n",
       "   statuses_count  favourites_count    account_created_at  verified  \\\n",
       "0           38973                25  2009-03-18T13:46:38Z      True   \n",
       "1           38973                25  2009-03-18T13:46:38Z      True   \n",
       "2           38973                25  2009-03-18T13:46:38Z      True   \n",
       "3           38973                25  2009-03-18T13:46:38Z      True   \n",
       "4           38973                25  2009-03-18T13:46:38Z      True   \n",
       "\n",
       "               profile_url                      profile_expanded_url  \\\n",
       "0  https://t.co/OMxB0x7xC5  http://www.Instagram.com/realDonaldTrump   \n",
       "1  https://t.co/OMxB0x7xC5  http://www.Instagram.com/realDonaldTrump   \n",
       "2  https://t.co/OMxB0x7xC5  http://www.Instagram.com/realDonaldTrump   \n",
       "3  https://t.co/OMxB0x7xC5  http://www.Instagram.com/realDonaldTrump   \n",
       "4  https://t.co/OMxB0x7xC5  http://www.Instagram.com/realDonaldTrump   \n",
       "\n",
       "  account_lang                                 profile_banner_url  \\\n",
       "0           en  https://pbs.twimg.com/profile_banners/25073877...   \n",
       "1           en  https://pbs.twimg.com/profile_banners/25073877...   \n",
       "2           en  https://pbs.twimg.com/profile_banners/25073877...   \n",
       "3           en  https://pbs.twimg.com/profile_banners/25073877...   \n",
       "4           en  https://pbs.twimg.com/profile_banners/25073877...   \n",
       "\n",
       "                             profile_background_url  \\\n",
       "0  http://abs.twimg.com/images/themes/theme1/bg.png   \n",
       "1  http://abs.twimg.com/images/themes/theme1/bg.png   \n",
       "2  http://abs.twimg.com/images/themes/theme1/bg.png   \n",
       "3  http://abs.twimg.com/images/themes/theme1/bg.png   \n",
       "4  http://abs.twimg.com/images/themes/theme1/bg.png   \n",
       "\n",
       "                                   profile_image_url  \n",
       "0  http://pbs.twimg.com/profile_images/8742761973...  \n",
       "1  http://pbs.twimg.com/profile_images/8742761973...  \n",
       "2  http://pbs.twimg.com/profile_images/8742761973...  \n",
       "3  http://pbs.twimg.com/profile_images/8742761973...  \n",
       "4  http://pbs.twimg.com/profile_images/8742761973...  \n",
       "\n",
       "[5 rows x 88 columns]"
      ]
     },
     "execution_count": 208,
     "metadata": {},
     "output_type": "execute_result"
    }
   ],
   "source": [
    "tweets = pd.read_csv(\"tweets.csv\")\n",
    "tweets.head()"
   ]
  },
  {
   "cell_type": "markdown",
   "metadata": {},
   "source": [
    "# Data cleaning"
   ]
  },
  {
   "cell_type": "code",
   "execution_count": 209,
   "metadata": {},
   "outputs": [
    {
     "name": "stderr",
     "output_type": "stream",
     "text": [
      "<input>:3: DeprecationWarning: invalid escape sequence \\w\n",
      "<input>:3: DeprecationWarning: invalid escape sequence \\w\n",
      "<input>:3: DeprecationWarning: invalid escape sequence \\w\n",
      "<ipython-input-209-b6b6d9e98494>:3: DeprecationWarning: invalid escape sequence \\w\n",
      "  return re.sub(\"(@[A-Za-z0-9]+)|([^0-9A-Za-z \\t])|(\\w+:\\/\\/\\S+)|(#[A-Za-z0-9]+)\", \" \", tweet)\n"
     ]
    }
   ],
   "source": [
    "#function which removes characters\n",
    "def clean_tweet(tweet):\n",
    "    return re.sub(\"(@[A-Za-z0-9]+)|([^0-9A-Za-z \\t])|(\\w+:\\/\\/\\S+)|(#[A-Za-z0-9]+)\", \" \", tweet)"
   ]
  },
  {
   "cell_type": "code",
   "execution_count": 210,
   "metadata": {
    "collapsed": true
   },
   "outputs": [],
   "source": [
    "tweets['text'] = np.array([ clean_tweet(tweet) for tweet in tweets['text'] ])"
   ]
  },
  {
   "cell_type": "code",
   "execution_count": 211,
   "metadata": {
    "scrolled": true
   },
   "outputs": [
    {
     "data": {
      "text/plain": [
       "0    Consumer Sentiment hit its highest level in 17...\n",
       "1    Best economic numbers in decades  If the Democ...\n",
       "2    Watch   at 6 00 P M  on    Russian Hoax the bi...\n",
       "3    Congratulations to all of our Mexican friends ...\n",
       "4         I think full transparency is in order her...\n",
       "Name: text, dtype: object"
      ]
     },
     "execution_count": 211,
     "metadata": {},
     "output_type": "execute_result"
    }
   ],
   "source": [
    "tweets['text'].head()"
   ]
  },
  {
   "cell_type": "code",
   "execution_count": 212,
   "metadata": {
    "collapsed": true
   },
   "outputs": [],
   "source": [
    "#lowercase letters\n",
    "tweets['text'] = tweets['text'].str.lower()"
   ]
  },
  {
   "cell_type": "code",
   "execution_count": 213,
   "metadata": {
    "scrolled": true
   },
   "outputs": [
    {
     "data": {
      "text/plain": [
       "0    consumer sentiment hit its highest level in 17...\n",
       "1    best economic numbers in decades  if the democ...\n",
       "2    watch   at 6 00 p m  on    russian hoax the bi...\n",
       "3    congratulations to all of our mexican friends ...\n",
       "4    i think full transparency is in order here    ...\n",
       "Name: text, dtype: object"
      ]
     },
     "execution_count": 213,
     "metadata": {},
     "output_type": "execute_result"
    }
   ],
   "source": [
    "#remove whitespaces\n",
    "tweets['text'] = np.array([tweet.strip() for tweet in tweets['text'] ])\n",
    "tweets['text'].head()"
   ]
  },
  {
   "cell_type": "code",
   "execution_count": 214,
   "metadata": {
    "scrolled": false
   },
   "outputs": [
    {
     "data": {
      "text/html": [
       "<div>\n",
       "<style scoped>\n",
       "    .dataframe tbody tr th:only-of-type {\n",
       "        vertical-align: middle;\n",
       "    }\n",
       "\n",
       "    .dataframe tbody tr th {\n",
       "        vertical-align: top;\n",
       "    }\n",
       "\n",
       "    .dataframe thead th {\n",
       "        text-align: right;\n",
       "    }\n",
       "</style>\n",
       "<table border=\"1\" class=\"dataframe\">\n",
       "  <thead>\n",
       "    <tr style=\"text-align: right;\">\n",
       "      <th></th>\n",
       "      <th>name</th>\n",
       "      <th>text</th>\n",
       "    </tr>\n",
       "  </thead>\n",
       "  <tbody>\n",
       "    <tr>\n",
       "      <th>0</th>\n",
       "      <td>Donald J. Trump</td>\n",
       "      <td>consumer sentiment hit its highest level in 17...</td>\n",
       "    </tr>\n",
       "    <tr>\n",
       "      <th>1</th>\n",
       "      <td>Donald J. Trump</td>\n",
       "      <td>best economic numbers in decades  if the democ...</td>\n",
       "    </tr>\n",
       "    <tr>\n",
       "      <th>2</th>\n",
       "      <td>Donald J. Trump</td>\n",
       "      <td>watch   at 6 00 p m  on    russian hoax the bi...</td>\n",
       "    </tr>\n",
       "    <tr>\n",
       "      <th>3</th>\n",
       "      <td>Donald J. Trump</td>\n",
       "      <td>congratulations to all of our mexican friends ...</td>\n",
       "    </tr>\n",
       "    <tr>\n",
       "      <th>4</th>\n",
       "      <td>Donald J. Trump</td>\n",
       "      <td>i think full transparency is in order here    ...</td>\n",
       "    </tr>\n",
       "  </tbody>\n",
       "</table>\n",
       "</div>"
      ],
      "text/plain": [
       "              name                                               text\n",
       "0  Donald J. Trump  consumer sentiment hit its highest level in 17...\n",
       "1  Donald J. Trump  best economic numbers in decades  if the democ...\n",
       "2  Donald J. Trump  watch   at 6 00 p m  on    russian hoax the bi...\n",
       "3  Donald J. Trump  congratulations to all of our mexican friends ...\n",
       "4  Donald J. Trump  i think full transparency is in order here    ..."
      ]
     },
     "execution_count": 214,
     "metadata": {},
     "output_type": "execute_result"
    }
   ],
   "source": [
    "#choose just necessary columns\n",
    "tw_words = tweets[['name', 'text']]\n",
    "tw_words.head()"
   ]
  },
  {
   "cell_type": "code",
   "execution_count": 215,
   "metadata": {
    "scrolled": true
   },
   "outputs": [
    {
     "name": "stdout",
     "output_type": "stream",
     "text": [
      "[nltk_data] Downloading package stopwords to\n",
      "[nltk_data]     C:\\Users\\Marija.Miljkovic\\AppData\\Roaming\\nltk_data...\n",
      "[nltk_data]   Package stopwords is already up-to-date!\n"
     ]
    }
   ],
   "source": [
    "#find english stopwords\n",
    "nltk.download('stopwords')\n",
    "en_stop = set(nltk.corpus.stopwords.words('english'))"
   ]
  },
  {
   "cell_type": "markdown",
   "metadata": {},
   "source": [
    "# Tokenize words"
   ]
  },
  {
   "cell_type": "code",
   "execution_count": 216,
   "metadata": {
    "scrolled": true
   },
   "outputs": [
    {
     "name": "stderr",
     "output_type": "stream",
     "text": [
      "C:\\Users\\Marija.Miljkovic\\Anaconda3\\lib\\site-packages\\ipykernel_launcher.py:1: SettingWithCopyWarning: \n",
      "A value is trying to be set on a copy of a slice from a DataFrame.\n",
      "Try using .loc[row_indexer,col_indexer] = value instead\n",
      "\n",
      "See the caveats in the documentation: http://pandas.pydata.org/pandas-docs/stable/indexing.html#indexing-view-versus-copy\n",
      "  \"\"\"Entry point for launching an IPython kernel.\n"
     ]
    },
    {
     "data": {
      "text/html": [
       "<div>\n",
       "<style scoped>\n",
       "    .dataframe tbody tr th:only-of-type {\n",
       "        vertical-align: middle;\n",
       "    }\n",
       "\n",
       "    .dataframe tbody tr th {\n",
       "        vertical-align: top;\n",
       "    }\n",
       "\n",
       "    .dataframe thead th {\n",
       "        text-align: right;\n",
       "    }\n",
       "</style>\n",
       "<table border=\"1\" class=\"dataframe\">\n",
       "  <thead>\n",
       "    <tr style=\"text-align: right;\">\n",
       "      <th></th>\n",
       "      <th>name</th>\n",
       "      <th>text</th>\n",
       "      <th>tokens</th>\n",
       "    </tr>\n",
       "  </thead>\n",
       "  <tbody>\n",
       "    <tr>\n",
       "      <th>0</th>\n",
       "      <td>Donald J. Trump</td>\n",
       "      <td>consumer sentiment hit its highest level in 17...</td>\n",
       "      <td>[consumer, sentiment, hit, its, highest, level...</td>\n",
       "    </tr>\n",
       "    <tr>\n",
       "      <th>1</th>\n",
       "      <td>Donald J. Trump</td>\n",
       "      <td>best economic numbers in decades  if the democ...</td>\n",
       "      <td>[best, economic, numbers, in, decades, if, the...</td>\n",
       "    </tr>\n",
       "    <tr>\n",
       "      <th>2</th>\n",
       "      <td>Donald J. Trump</td>\n",
       "      <td>watch   at 6 00 p m  on    russian hoax the bi...</td>\n",
       "      <td>[watch, at, 6, 00, p, m, on, russian, hoax, th...</td>\n",
       "    </tr>\n",
       "    <tr>\n",
       "      <th>3</th>\n",
       "      <td>Donald J. Trump</td>\n",
       "      <td>congratulations to all of our mexican friends ...</td>\n",
       "      <td>[congratulations, to, all, of, our, mexican, f...</td>\n",
       "    </tr>\n",
       "    <tr>\n",
       "      <th>4</th>\n",
       "      <td>Donald J. Trump</td>\n",
       "      <td>i think full transparency is in order here    ...</td>\n",
       "      <td>[i, think, full, transparency, is, in, order, ...</td>\n",
       "    </tr>\n",
       "  </tbody>\n",
       "</table>\n",
       "</div>"
      ],
      "text/plain": [
       "              name                                               text  \\\n",
       "0  Donald J. Trump  consumer sentiment hit its highest level in 17...   \n",
       "1  Donald J. Trump  best economic numbers in decades  if the democ...   \n",
       "2  Donald J. Trump  watch   at 6 00 p m  on    russian hoax the bi...   \n",
       "3  Donald J. Trump  congratulations to all of our mexican friends ...   \n",
       "4  Donald J. Trump  i think full transparency is in order here    ...   \n",
       "\n",
       "                                              tokens  \n",
       "0  [consumer, sentiment, hit, its, highest, level...  \n",
       "1  [best, economic, numbers, in, decades, if, the...  \n",
       "2  [watch, at, 6, 00, p, m, on, russian, hoax, th...  \n",
       "3  [congratulations, to, all, of, our, mexican, f...  \n",
       "4  [i, think, full, transparency, is, in, order, ...  "
      ]
     },
     "execution_count": 216,
     "metadata": {},
     "output_type": "execute_result"
    }
   ],
   "source": [
    "#tokenize words, drop english stopwords and lemmatize tokens\n",
    "tw_words['tokens'] = tw_words[['name', 'text']].apply(lambda row:word_tokenize(row['text']),axis=1)\n",
    "tw_tokens['tokens'] = tw_tokens['tokens'].apply(lambda x: [token for token in x if token not in en_stop])\n",
    "tw_tokens['tokens'] = tw_tokens['tokens'].apply(lambda x: [get_lemma(token) for token in x])\n",
    "tw_words.head()"
   ]
  },
  {
   "cell_type": "code",
   "execution_count": 217,
   "metadata": {
    "collapsed": true
   },
   "outputs": [],
   "source": [
    "#save dataframes\n",
    "tw_sentences = tw_words\n",
    "tw_tokens = tw_words"
   ]
  },
  {
   "cell_type": "code",
   "execution_count": 218,
   "metadata": {
    "scrolled": true
   },
   "outputs": [
    {
     "data": {
      "text/html": [
       "<div>\n",
       "<style scoped>\n",
       "    .dataframe tbody tr th:only-of-type {\n",
       "        vertical-align: middle;\n",
       "    }\n",
       "\n",
       "    .dataframe tbody tr th {\n",
       "        vertical-align: top;\n",
       "    }\n",
       "\n",
       "    .dataframe thead th {\n",
       "        text-align: right;\n",
       "    }\n",
       "</style>\n",
       "<table border=\"1\" class=\"dataframe\">\n",
       "  <thead>\n",
       "    <tr style=\"text-align: right;\">\n",
       "      <th></th>\n",
       "      <th>name</th>\n",
       "      <th>text</th>\n",
       "      <th>tokens</th>\n",
       "    </tr>\n",
       "  </thead>\n",
       "  <tbody>\n",
       "    <tr>\n",
       "      <th>0</th>\n",
       "      <td>Donald J. Trump</td>\n",
       "      <td>consumer sentiment hit its highest level in 17...</td>\n",
       "      <td>consumer</td>\n",
       "    </tr>\n",
       "    <tr>\n",
       "      <th>0</th>\n",
       "      <td>Donald J. Trump</td>\n",
       "      <td>consumer sentiment hit its highest level in 17...</td>\n",
       "      <td>sentiment</td>\n",
       "    </tr>\n",
       "    <tr>\n",
       "      <th>0</th>\n",
       "      <td>Donald J. Trump</td>\n",
       "      <td>consumer sentiment hit its highest level in 17...</td>\n",
       "      <td>hit</td>\n",
       "    </tr>\n",
       "    <tr>\n",
       "      <th>0</th>\n",
       "      <td>Donald J. Trump</td>\n",
       "      <td>consumer sentiment hit its highest level in 17...</td>\n",
       "      <td>its</td>\n",
       "    </tr>\n",
       "    <tr>\n",
       "      <th>0</th>\n",
       "      <td>Donald J. Trump</td>\n",
       "      <td>consumer sentiment hit its highest level in 17...</td>\n",
       "      <td>highest</td>\n",
       "    </tr>\n",
       "  </tbody>\n",
       "</table>\n",
       "</div>"
      ],
      "text/plain": [
       "              name                                               text  \\\n",
       "0  Donald J. Trump  consumer sentiment hit its highest level in 17...   \n",
       "0  Donald J. Trump  consumer sentiment hit its highest level in 17...   \n",
       "0  Donald J. Trump  consumer sentiment hit its highest level in 17...   \n",
       "0  Donald J. Trump  consumer sentiment hit its highest level in 17...   \n",
       "0  Donald J. Trump  consumer sentiment hit its highest level in 17...   \n",
       "\n",
       "      tokens  \n",
       "0   consumer  \n",
       "0  sentiment  \n",
       "0        hit  \n",
       "0        its  \n",
       "0    highest  "
      ]
     },
     "execution_count": 218,
     "metadata": {},
     "output_type": "execute_result"
    }
   ],
   "source": [
    "#extract tokens\n",
    "s = tw_words.apply(lambda x: pd.Series(x['tokens']), axis=1).stack().reset_index(level=1, drop=True)\n",
    "s.name = 'tokens'\n",
    "tw_words = tw_words.drop('tokens', axis=1).join(s)\n",
    "tw_words['tokens'] = pd.Series(tw_words['tokens'], dtype=object)\n",
    "tw_words.head()"
   ]
  },
  {
   "cell_type": "code",
   "execution_count": 219,
   "metadata": {},
   "outputs": [
    {
     "data": {
      "text/html": [
       "<div>\n",
       "<style scoped>\n",
       "    .dataframe tbody tr th:only-of-type {\n",
       "        vertical-align: middle;\n",
       "    }\n",
       "\n",
       "    .dataframe tbody tr th {\n",
       "        vertical-align: top;\n",
       "    }\n",
       "\n",
       "    .dataframe thead th {\n",
       "        text-align: right;\n",
       "    }\n",
       "</style>\n",
       "<table border=\"1\" class=\"dataframe\">\n",
       "  <thead>\n",
       "    <tr style=\"text-align: right;\">\n",
       "      <th></th>\n",
       "      <th>name</th>\n",
       "      <th>word</th>\n",
       "      <th>n</th>\n",
       "    </tr>\n",
       "  </thead>\n",
       "  <tbody>\n",
       "    <tr>\n",
       "      <th>6616</th>\n",
       "      <td>Donald J. Trump</td>\n",
       "      <td>the</td>\n",
       "      <td>4770</td>\n",
       "    </tr>\n",
       "    <tr>\n",
       "      <th>480</th>\n",
       "      <td>Donald J. Trump</td>\n",
       "      <td>and</td>\n",
       "      <td>2720</td>\n",
       "    </tr>\n",
       "    <tr>\n",
       "      <th>6696</th>\n",
       "      <td>Donald J. Trump</td>\n",
       "      <td>to</td>\n",
       "      <td>2613</td>\n",
       "    </tr>\n",
       "    <tr>\n",
       "      <th>4631</th>\n",
       "      <td>Donald J. Trump</td>\n",
       "      <td>of</td>\n",
       "      <td>2068</td>\n",
       "    </tr>\n",
       "    <tr>\n",
       "      <th>21207</th>\n",
       "      <td>Hadley Wickham</td>\n",
       "      <td>the</td>\n",
       "      <td>1954</td>\n",
       "    </tr>\n",
       "  </tbody>\n",
       "</table>\n",
       "</div>"
      ],
      "text/plain": [
       "                  name word     n\n",
       "6616   Donald J. Trump  the  4770\n",
       "480    Donald J. Trump  and  2720\n",
       "6696   Donald J. Trump   to  2613\n",
       "4631   Donald J. Trump   of  2068\n",
       "21207   Hadley Wickham  the  1954"
      ]
     },
     "execution_count": 219,
     "metadata": {},
     "output_type": "execute_result"
    }
   ],
   "source": [
    "#count number of particular tokens per person\n",
    "tw_words = tw_words.groupby(['name', 'tokens']).count()\n",
    "tw_words = tw_words.reset_index()\n",
    "tw_words.columns = ['name', 'word', 'n']\n",
    "tw_words = tw_words.sort_values('n', ascending=False)\n",
    "tw_words.head()"
   ]
  },
  {
   "cell_type": "code",
   "execution_count": 220,
   "metadata": {
    "scrolled": true
   },
   "outputs": [
    {
     "data": {
      "text/html": [
       "<div>\n",
       "<style scoped>\n",
       "    .dataframe tbody tr th:only-of-type {\n",
       "        vertical-align: middle;\n",
       "    }\n",
       "\n",
       "    .dataframe tbody tr th {\n",
       "        vertical-align: top;\n",
       "    }\n",
       "\n",
       "    .dataframe thead th {\n",
       "        text-align: right;\n",
       "    }\n",
       "</style>\n",
       "<table border=\"1\" class=\"dataframe\">\n",
       "  <thead>\n",
       "    <tr style=\"text-align: right;\">\n",
       "      <th></th>\n",
       "      <th>name</th>\n",
       "      <th>total</th>\n",
       "    </tr>\n",
       "  </thead>\n",
       "  <tbody>\n",
       "    <tr>\n",
       "      <th>0</th>\n",
       "      <td>Donald J. Trump</td>\n",
       "      <td>97672</td>\n",
       "    </tr>\n",
       "    <tr>\n",
       "      <th>1</th>\n",
       "      <td>Elon Musk</td>\n",
       "      <td>47560</td>\n",
       "    </tr>\n",
       "    <tr>\n",
       "      <th>2</th>\n",
       "      <td>Hadley Wickham</td>\n",
       "      <td>64886</td>\n",
       "    </tr>\n",
       "    <tr>\n",
       "      <th>3</th>\n",
       "      <td>Tim Ferriss</td>\n",
       "      <td>44937</td>\n",
       "    </tr>\n",
       "  </tbody>\n",
       "</table>\n",
       "</div>"
      ],
      "text/plain": [
       "              name  total\n",
       "0  Donald J. Trump  97672\n",
       "1        Elon Musk  47560\n",
       "2   Hadley Wickham  64886\n",
       "3      Tim Ferriss  44937"
      ]
     },
     "execution_count": 220,
     "metadata": {},
     "output_type": "execute_result"
    }
   ],
   "source": [
    "#total number of words per person\n",
    "total_words = tw_words[['name','n']].groupby('name').sum()\n",
    "total_words = total_words.reset_index()\n",
    "total_words.columns=['name', 'total']\n",
    "total_words"
   ]
  },
  {
   "cell_type": "code",
   "execution_count": 221,
   "metadata": {},
   "outputs": [
    {
     "data": {
      "text/html": [
       "<div>\n",
       "<style scoped>\n",
       "    .dataframe tbody tr th:only-of-type {\n",
       "        vertical-align: middle;\n",
       "    }\n",
       "\n",
       "    .dataframe tbody tr th {\n",
       "        vertical-align: top;\n",
       "    }\n",
       "\n",
       "    .dataframe thead th {\n",
       "        text-align: right;\n",
       "    }\n",
       "</style>\n",
       "<table border=\"1\" class=\"dataframe\">\n",
       "  <thead>\n",
       "    <tr style=\"text-align: right;\">\n",
       "      <th></th>\n",
       "      <th>name</th>\n",
       "      <th>word</th>\n",
       "      <th>n</th>\n",
       "      <th>total</th>\n",
       "    </tr>\n",
       "  </thead>\n",
       "  <tbody>\n",
       "    <tr>\n",
       "      <th>0</th>\n",
       "      <td>Donald J. Trump</td>\n",
       "      <td>the</td>\n",
       "      <td>4770</td>\n",
       "      <td>97672</td>\n",
       "    </tr>\n",
       "    <tr>\n",
       "      <th>1</th>\n",
       "      <td>Donald J. Trump</td>\n",
       "      <td>and</td>\n",
       "      <td>2720</td>\n",
       "      <td>97672</td>\n",
       "    </tr>\n",
       "    <tr>\n",
       "      <th>2</th>\n",
       "      <td>Donald J. Trump</td>\n",
       "      <td>to</td>\n",
       "      <td>2613</td>\n",
       "      <td>97672</td>\n",
       "    </tr>\n",
       "    <tr>\n",
       "      <th>3</th>\n",
       "      <td>Donald J. Trump</td>\n",
       "      <td>of</td>\n",
       "      <td>2068</td>\n",
       "      <td>97672</td>\n",
       "    </tr>\n",
       "    <tr>\n",
       "      <th>4</th>\n",
       "      <td>Hadley Wickham</td>\n",
       "      <td>the</td>\n",
       "      <td>1954</td>\n",
       "      <td>64886</td>\n",
       "    </tr>\n",
       "  </tbody>\n",
       "</table>\n",
       "</div>"
      ],
      "text/plain": [
       "              name word     n  total\n",
       "0  Donald J. Trump  the  4770  97672\n",
       "1  Donald J. Trump  and  2720  97672\n",
       "2  Donald J. Trump   to  2613  97672\n",
       "3  Donald J. Trump   of  2068  97672\n",
       "4   Hadley Wickham  the  1954  64886"
      ]
     },
     "execution_count": 221,
     "metadata": {},
     "output_type": "execute_result"
    }
   ],
   "source": [
    "tw_words = pd.merge(tw_words, total_words, how='left', on='name')\n",
    "tw_words.head()"
   ]
  },
  {
   "cell_type": "code",
   "execution_count": 222,
   "metadata": {
    "scrolled": true
   },
   "outputs": [
    {
     "data": {
      "text/html": [
       "<div>\n",
       "<style scoped>\n",
       "    .dataframe tbody tr th:only-of-type {\n",
       "        vertical-align: middle;\n",
       "    }\n",
       "\n",
       "    .dataframe tbody tr th {\n",
       "        vertical-align: top;\n",
       "    }\n",
       "\n",
       "    .dataframe thead th {\n",
       "        text-align: right;\n",
       "    }\n",
       "</style>\n",
       "<table border=\"1\" class=\"dataframe\">\n",
       "  <thead>\n",
       "    <tr style=\"text-align: right;\">\n",
       "      <th></th>\n",
       "      <th>name</th>\n",
       "      <th>word</th>\n",
       "      <th>n</th>\n",
       "      <th>total</th>\n",
       "      <th>rank</th>\n",
       "      <th>term_frequency</th>\n",
       "    </tr>\n",
       "  </thead>\n",
       "  <tbody>\n",
       "    <tr>\n",
       "      <th>0</th>\n",
       "      <td>Donald J. Trump</td>\n",
       "      <td>the</td>\n",
       "      <td>4770</td>\n",
       "      <td>97672</td>\n",
       "      <td>1</td>\n",
       "      <td>0.048837</td>\n",
       "    </tr>\n",
       "    <tr>\n",
       "      <th>1</th>\n",
       "      <td>Donald J. Trump</td>\n",
       "      <td>and</td>\n",
       "      <td>2720</td>\n",
       "      <td>97672</td>\n",
       "      <td>2</td>\n",
       "      <td>0.027848</td>\n",
       "    </tr>\n",
       "    <tr>\n",
       "      <th>2</th>\n",
       "      <td>Donald J. Trump</td>\n",
       "      <td>to</td>\n",
       "      <td>2613</td>\n",
       "      <td>97672</td>\n",
       "      <td>3</td>\n",
       "      <td>0.026753</td>\n",
       "    </tr>\n",
       "    <tr>\n",
       "      <th>3</th>\n",
       "      <td>Donald J. Trump</td>\n",
       "      <td>of</td>\n",
       "      <td>2068</td>\n",
       "      <td>97672</td>\n",
       "      <td>4</td>\n",
       "      <td>0.021173</td>\n",
       "    </tr>\n",
       "    <tr>\n",
       "      <th>4</th>\n",
       "      <td>Hadley Wickham</td>\n",
       "      <td>the</td>\n",
       "      <td>1954</td>\n",
       "      <td>64886</td>\n",
       "      <td>1</td>\n",
       "      <td>0.030114</td>\n",
       "    </tr>\n",
       "    <tr>\n",
       "      <th>5</th>\n",
       "      <td>Hadley Wickham</td>\n",
       "      <td>to</td>\n",
       "      <td>1916</td>\n",
       "      <td>64886</td>\n",
       "      <td>2</td>\n",
       "      <td>0.029529</td>\n",
       "    </tr>\n",
       "    <tr>\n",
       "      <th>6</th>\n",
       "      <td>Tim Ferriss</td>\n",
       "      <td>the</td>\n",
       "      <td>1848</td>\n",
       "      <td>44937</td>\n",
       "      <td>1</td>\n",
       "      <td>0.041124</td>\n",
       "    </tr>\n",
       "    <tr>\n",
       "      <th>7</th>\n",
       "      <td>Donald J. Trump</td>\n",
       "      <td>a</td>\n",
       "      <td>1734</td>\n",
       "      <td>97672</td>\n",
       "      <td>5</td>\n",
       "      <td>0.017753</td>\n",
       "    </tr>\n",
       "    <tr>\n",
       "      <th>8</th>\n",
       "      <td>Donald J. Trump</td>\n",
       "      <td>in</td>\n",
       "      <td>1456</td>\n",
       "      <td>97672</td>\n",
       "      <td>6</td>\n",
       "      <td>0.014907</td>\n",
       "    </tr>\n",
       "    <tr>\n",
       "      <th>9</th>\n",
       "      <td>Donald J. Trump</td>\n",
       "      <td>is</td>\n",
       "      <td>1437</td>\n",
       "      <td>97672</td>\n",
       "      <td>7</td>\n",
       "      <td>0.014713</td>\n",
       "    </tr>\n",
       "    <tr>\n",
       "      <th>10</th>\n",
       "      <td>Hadley Wickham</td>\n",
       "      <td>a</td>\n",
       "      <td>1431</td>\n",
       "      <td>64886</td>\n",
       "      <td>3</td>\n",
       "      <td>0.022054</td>\n",
       "    </tr>\n",
       "    <tr>\n",
       "      <th>11</th>\n",
       "      <td>Tim Ferriss</td>\n",
       "      <td>to</td>\n",
       "      <td>1410</td>\n",
       "      <td>44937</td>\n",
       "      <td>2</td>\n",
       "      <td>0.031377</td>\n",
       "    </tr>\n",
       "    <tr>\n",
       "      <th>12</th>\n",
       "      <td>Elon Musk</td>\n",
       "      <td>the</td>\n",
       "      <td>1327</td>\n",
       "      <td>47560</td>\n",
       "      <td>1</td>\n",
       "      <td>0.027902</td>\n",
       "    </tr>\n",
       "    <tr>\n",
       "      <th>13</th>\n",
       "      <td>Hadley Wickham</td>\n",
       "      <td>i</td>\n",
       "      <td>1271</td>\n",
       "      <td>64886</td>\n",
       "      <td>4</td>\n",
       "      <td>0.019588</td>\n",
       "    </tr>\n",
       "    <tr>\n",
       "      <th>14</th>\n",
       "      <td>Hadley Wickham</td>\n",
       "      <td>and</td>\n",
       "      <td>1223</td>\n",
       "      <td>64886</td>\n",
       "      <td>5</td>\n",
       "      <td>0.018848</td>\n",
       "    </tr>\n",
       "    <tr>\n",
       "      <th>15</th>\n",
       "      <td>Elon Musk</td>\n",
       "      <td>to</td>\n",
       "      <td>1212</td>\n",
       "      <td>47560</td>\n",
       "      <td>2</td>\n",
       "      <td>0.025484</td>\n",
       "    </tr>\n",
       "    <tr>\n",
       "      <th>16</th>\n",
       "      <td>Tim Ferriss</td>\n",
       "      <td>and</td>\n",
       "      <td>1191</td>\n",
       "      <td>44937</td>\n",
       "      <td>3</td>\n",
       "      <td>0.026504</td>\n",
       "    </tr>\n",
       "    <tr>\n",
       "      <th>17</th>\n",
       "      <td>Hadley Wickham</td>\n",
       "      <td>you</td>\n",
       "      <td>1145</td>\n",
       "      <td>64886</td>\n",
       "      <td>6</td>\n",
       "      <td>0.017646</td>\n",
       "    </tr>\n",
       "    <tr>\n",
       "      <th>18</th>\n",
       "      <td>Donald J. Trump</td>\n",
       "      <td>for</td>\n",
       "      <td>1140</td>\n",
       "      <td>97672</td>\n",
       "      <td>8</td>\n",
       "      <td>0.011672</td>\n",
       "    </tr>\n",
       "    <tr>\n",
       "      <th>19</th>\n",
       "      <td>Hadley Wickham</td>\n",
       "      <td>of</td>\n",
       "      <td>1062</td>\n",
       "      <td>64886</td>\n",
       "      <td>7</td>\n",
       "      <td>0.016367</td>\n",
       "    </tr>\n",
       "  </tbody>\n",
       "</table>\n",
       "</div>"
      ],
      "text/plain": [
       "               name word     n  total  rank  term_frequency\n",
       "0   Donald J. Trump  the  4770  97672     1        0.048837\n",
       "1   Donald J. Trump  and  2720  97672     2        0.027848\n",
       "2   Donald J. Trump   to  2613  97672     3        0.026753\n",
       "3   Donald J. Trump   of  2068  97672     4        0.021173\n",
       "4    Hadley Wickham  the  1954  64886     1        0.030114\n",
       "5    Hadley Wickham   to  1916  64886     2        0.029529\n",
       "6       Tim Ferriss  the  1848  44937     1        0.041124\n",
       "7   Donald J. Trump    a  1734  97672     5        0.017753\n",
       "8   Donald J. Trump   in  1456  97672     6        0.014907\n",
       "9   Donald J. Trump   is  1437  97672     7        0.014713\n",
       "10   Hadley Wickham    a  1431  64886     3        0.022054\n",
       "11      Tim Ferriss   to  1410  44937     2        0.031377\n",
       "12        Elon Musk  the  1327  47560     1        0.027902\n",
       "13   Hadley Wickham    i  1271  64886     4        0.019588\n",
       "14   Hadley Wickham  and  1223  64886     5        0.018848\n",
       "15        Elon Musk   to  1212  47560     2        0.025484\n",
       "16      Tim Ferriss  and  1191  44937     3        0.026504\n",
       "17   Hadley Wickham  you  1145  64886     6        0.017646\n",
       "18  Donald J. Trump  for  1140  97672     8        0.011672\n",
       "19   Hadley Wickham   of  1062  64886     7        0.016367"
      ]
     },
     "execution_count": 222,
     "metadata": {},
     "output_type": "execute_result"
    }
   ],
   "source": [
    "#rank words per person and count term_frequency\n",
    "tw_words['rank'] = tw_words.groupby('name').cumcount()+1\n",
    "freq_by_rank = tw_words\n",
    "freq_by_rank['term_frequency'] = freq_by_rank['n']/freq_by_rank['total']\n",
    "freq_by_rank.head(20)"
   ]
  },
  {
   "cell_type": "code",
   "execution_count": 223,
   "metadata": {},
   "outputs": [
    {
     "data": {
      "text/html": [
       "<div>\n",
       "<style scoped>\n",
       "    .dataframe tbody tr th:only-of-type {\n",
       "        vertical-align: middle;\n",
       "    }\n",
       "\n",
       "    .dataframe tbody tr th {\n",
       "        vertical-align: top;\n",
       "    }\n",
       "\n",
       "    .dataframe thead th {\n",
       "        text-align: right;\n",
       "    }\n",
       "</style>\n",
       "<table border=\"1\" class=\"dataframe\">\n",
       "  <thead>\n",
       "    <tr style=\"text-align: right;\">\n",
       "      <th></th>\n",
       "      <th>name</th>\n",
       "      <th>word</th>\n",
       "      <th>n</th>\n",
       "      <th>total</th>\n",
       "      <th>rank</th>\n",
       "      <th>term_frequency</th>\n",
       "      <th>foridf</th>\n",
       "    </tr>\n",
       "  </thead>\n",
       "  <tbody>\n",
       "    <tr>\n",
       "      <th>0</th>\n",
       "      <td>Donald J. Trump</td>\n",
       "      <td>the</td>\n",
       "      <td>4770</td>\n",
       "      <td>97672</td>\n",
       "      <td>1</td>\n",
       "      <td>0.048837</td>\n",
       "      <td>4</td>\n",
       "    </tr>\n",
       "    <tr>\n",
       "      <th>1</th>\n",
       "      <td>Donald J. Trump</td>\n",
       "      <td>and</td>\n",
       "      <td>2720</td>\n",
       "      <td>97672</td>\n",
       "      <td>2</td>\n",
       "      <td>0.027848</td>\n",
       "      <td>4</td>\n",
       "    </tr>\n",
       "    <tr>\n",
       "      <th>2</th>\n",
       "      <td>Donald J. Trump</td>\n",
       "      <td>to</td>\n",
       "      <td>2613</td>\n",
       "      <td>97672</td>\n",
       "      <td>3</td>\n",
       "      <td>0.026753</td>\n",
       "      <td>4</td>\n",
       "    </tr>\n",
       "    <tr>\n",
       "      <th>3</th>\n",
       "      <td>Donald J. Trump</td>\n",
       "      <td>of</td>\n",
       "      <td>2068</td>\n",
       "      <td>97672</td>\n",
       "      <td>4</td>\n",
       "      <td>0.021173</td>\n",
       "      <td>4</td>\n",
       "    </tr>\n",
       "    <tr>\n",
       "      <th>4</th>\n",
       "      <td>Hadley Wickham</td>\n",
       "      <td>the</td>\n",
       "      <td>1954</td>\n",
       "      <td>64886</td>\n",
       "      <td>1</td>\n",
       "      <td>0.030114</td>\n",
       "      <td>4</td>\n",
       "    </tr>\n",
       "  </tbody>\n",
       "</table>\n",
       "</div>"
      ],
      "text/plain": [
       "              name word     n  total  rank  term_frequency  foridf\n",
       "0  Donald J. Trump  the  4770  97672     1        0.048837       4\n",
       "1  Donald J. Trump  and  2720  97672     2        0.027848       4\n",
       "2  Donald J. Trump   to  2613  97672     3        0.026753       4\n",
       "3  Donald J. Trump   of  2068  97672     4        0.021173       4\n",
       "4   Hadley Wickham  the  1954  64886     1        0.030114       4"
      ]
     },
     "execution_count": 223,
     "metadata": {},
     "output_type": "execute_result"
    }
   ],
   "source": [
    "#calculate column that will be needed for tf-idf\n",
    "for_idf = tw_words.groupby(['word','name']).count().reset_index().groupby('word').sum().reset_index()\n",
    "for_idf = for_idf[['word','n']]\n",
    "for_idf.columns = ['word','foridf']\n",
    "tw_words = pd.merge(tw_words, for_idf, how='left', on='word')\n",
    "tw_words.head()"
   ]
  },
  {
   "cell_type": "markdown",
   "metadata": {},
   "source": [
    "# TF-IDF"
   ]
  },
  {
   "cell_type": "code",
   "execution_count": 224,
   "metadata": {
    "collapsed": true
   },
   "outputs": [],
   "source": [
    "N = total_words.count()[0] #number of words\n",
    "tw_words['tf'] = tw_words['n']/tw_words['total'] #calculate tf\n",
    "tw_words['idf'] = np.log(N*1.0/(1+tw_words['foridf']*1.0)) #calculate idf\n",
    "tw_words.loc[tw_words['idf'] <0, 'idf'] = 0 #use just non-negative values of idf\n",
    "tw_words['tf_idf'] = tw_words['tf']*tw_words['idf'] #calculate tf-idf\n",
    "tw_words.sort_values(by=['tf_idf'], ascending=False).head(10)"
   ]
  },
  {
   "cell_type": "markdown",
   "metadata": {},
   "source": [
    "# Sentiment analysis"
   ]
  },
  {
   "cell_type": "markdown",
   "metadata": {},
   "source": [
    "## Afinn package"
   ]
  },
  {
   "cell_type": "code",
   "execution_count": 230,
   "metadata": {
    "collapsed": true
   },
   "outputs": [],
   "source": [
    "#import afinn library\n",
    "from afinn import Afinn\n",
    "\n",
    "#calculate afinn score\n",
    "tw_words['sentiment'] = np.array([ afinn.score(word) for word in tw_words['word'] ])"
   ]
  },
  {
   "cell_type": "code",
   "execution_count": 232,
   "metadata": {},
   "outputs": [
    {
     "data": {
      "text/html": [
       "<div>\n",
       "<style scoped>\n",
       "    .dataframe tbody tr th:only-of-type {\n",
       "        vertical-align: middle;\n",
       "    }\n",
       "\n",
       "    .dataframe tbody tr th {\n",
       "        vertical-align: top;\n",
       "    }\n",
       "\n",
       "    .dataframe thead th {\n",
       "        text-align: right;\n",
       "    }\n",
       "</style>\n",
       "<table border=\"1\" class=\"dataframe\">\n",
       "  <thead>\n",
       "    <tr style=\"text-align: right;\">\n",
       "      <th></th>\n",
       "      <th>name</th>\n",
       "      <th>word</th>\n",
       "      <th>n</th>\n",
       "      <th>total</th>\n",
       "      <th>rank</th>\n",
       "      <th>term_frequency</th>\n",
       "      <th>foridf</th>\n",
       "      <th>tf</th>\n",
       "      <th>idf</th>\n",
       "      <th>tf_idf</th>\n",
       "      <th>sentiment</th>\n",
       "    </tr>\n",
       "  </thead>\n",
       "  <tbody>\n",
       "    <tr>\n",
       "      <th>4498</th>\n",
       "      <td>Donald J. Trump</td>\n",
       "      <td>thrilled</td>\n",
       "      <td>7</td>\n",
       "      <td>97672</td>\n",
       "      <td>1556</td>\n",
       "      <td>0.000072</td>\n",
       "      <td>3</td>\n",
       "      <td>0.000072</td>\n",
       "      <td>0.0</td>\n",
       "      <td>0.0</td>\n",
       "      <td>5.0</td>\n",
       "    </tr>\n",
       "    <tr>\n",
       "      <th>4467</th>\n",
       "      <td>Hadley Wickham</td>\n",
       "      <td>thrilled</td>\n",
       "      <td>7</td>\n",
       "      <td>64886</td>\n",
       "      <td>1089</td>\n",
       "      <td>0.000108</td>\n",
       "      <td>3</td>\n",
       "      <td>0.000108</td>\n",
       "      <td>0.0</td>\n",
       "      <td>0.0</td>\n",
       "      <td>5.0</td>\n",
       "    </tr>\n",
       "    <tr>\n",
       "      <th>23898</th>\n",
       "      <td>Elon Musk</td>\n",
       "      <td>outstanding</td>\n",
       "      <td>1</td>\n",
       "      <td>47560</td>\n",
       "      <td>5408</td>\n",
       "      <td>0.000021</td>\n",
       "      <td>4</td>\n",
       "      <td>0.000021</td>\n",
       "      <td>0.0</td>\n",
       "      <td>0.0</td>\n",
       "      <td>5.0</td>\n",
       "    </tr>\n",
       "    <tr>\n",
       "      <th>4784</th>\n",
       "      <td>Tim Ferriss</td>\n",
       "      <td>outstanding</td>\n",
       "      <td>7</td>\n",
       "      <td>44937</td>\n",
       "      <td>972</td>\n",
       "      <td>0.000156</td>\n",
       "      <td>4</td>\n",
       "      <td>0.000156</td>\n",
       "      <td>0.0</td>\n",
       "      <td>0.0</td>\n",
       "      <td>5.0</td>\n",
       "    </tr>\n",
       "    <tr>\n",
       "      <th>8479</th>\n",
       "      <td>Tim Ferriss</td>\n",
       "      <td>thrilled</td>\n",
       "      <td>3</td>\n",
       "      <td>44937</td>\n",
       "      <td>1740</td>\n",
       "      <td>0.000067</td>\n",
       "      <td>3</td>\n",
       "      <td>0.000067</td>\n",
       "      <td>0.0</td>\n",
       "      <td>0.0</td>\n",
       "      <td>5.0</td>\n",
       "    </tr>\n",
       "  </tbody>\n",
       "</table>\n",
       "</div>"
      ],
      "text/plain": [
       "                  name         word  n  total  rank  term_frequency  foridf  \\\n",
       "4498   Donald J. Trump     thrilled  7  97672  1556        0.000072       3   \n",
       "4467    Hadley Wickham     thrilled  7  64886  1089        0.000108       3   \n",
       "23898        Elon Musk  outstanding  1  47560  5408        0.000021       4   \n",
       "4784       Tim Ferriss  outstanding  7  44937   972        0.000156       4   \n",
       "8479       Tim Ferriss     thrilled  3  44937  1740        0.000067       3   \n",
       "\n",
       "             tf  idf  tf_idf  sentiment  \n",
       "4498   0.000072  0.0     0.0        5.0  \n",
       "4467   0.000108  0.0     0.0        5.0  \n",
       "23898  0.000021  0.0     0.0        5.0  \n",
       "4784   0.000156  0.0     0.0        5.0  \n",
       "8479   0.000067  0.0     0.0        5.0  "
      ]
     },
     "execution_count": 232,
     "metadata": {},
     "output_type": "execute_result"
    }
   ],
   "source": [
    "tw_words.sort_values(by='sentiment', ascending=False).head()"
   ]
  },
  {
   "cell_type": "code",
   "execution_count": 233,
   "metadata": {
    "collapsed": true
   },
   "outputs": [],
   "source": [
    "#general sentiment per person\n",
    "sentiments = tw_words.groupby(['name']).sum().reset_index()\n",
    "sentiments = sentiments[['name', 'sentiment']]"
   ]
  },
  {
   "cell_type": "code",
   "execution_count": 234,
   "metadata": {
    "scrolled": false
   },
   "outputs": [
    {
     "data": {
      "text/html": [
       "<div>\n",
       "<style scoped>\n",
       "    .dataframe tbody tr th:only-of-type {\n",
       "        vertical-align: middle;\n",
       "    }\n",
       "\n",
       "    .dataframe tbody tr th {\n",
       "        vertical-align: top;\n",
       "    }\n",
       "\n",
       "    .dataframe thead th {\n",
       "        text-align: right;\n",
       "    }\n",
       "</style>\n",
       "<table border=\"1\" class=\"dataframe\">\n",
       "  <thead>\n",
       "    <tr style=\"text-align: right;\">\n",
       "      <th></th>\n",
       "      <th>name</th>\n",
       "      <th>sentiment</th>\n",
       "    </tr>\n",
       "  </thead>\n",
       "  <tbody>\n",
       "    <tr>\n",
       "      <th>0</th>\n",
       "      <td>Donald J. Trump</td>\n",
       "      <td>-309.0</td>\n",
       "    </tr>\n",
       "    <tr>\n",
       "      <th>1</th>\n",
       "      <td>Elon Musk</td>\n",
       "      <td>-9.0</td>\n",
       "    </tr>\n",
       "    <tr>\n",
       "      <th>2</th>\n",
       "      <td>Hadley Wickham</td>\n",
       "      <td>242.0</td>\n",
       "    </tr>\n",
       "    <tr>\n",
       "      <th>3</th>\n",
       "      <td>Tim Ferriss</td>\n",
       "      <td>123.0</td>\n",
       "    </tr>\n",
       "  </tbody>\n",
       "</table>\n",
       "</div>"
      ],
      "text/plain": [
       "              name  sentiment\n",
       "0  Donald J. Trump     -309.0\n",
       "1        Elon Musk       -9.0\n",
       "2   Hadley Wickham      242.0\n",
       "3      Tim Ferriss      123.0"
      ]
     },
     "execution_count": 234,
     "metadata": {},
     "output_type": "execute_result"
    }
   ],
   "source": [
    "sentiments"
   ]
  },
  {
   "cell_type": "code",
   "execution_count": 263,
   "metadata": {},
   "outputs": [
    {
     "data": {
      "text/plain": [
       "<matplotlib.axes._subplots.AxesSubplot at 0x283abf3aa58>"
      ]
     },
     "execution_count": 263,
     "metadata": {},
     "output_type": "execute_result"
    },
    {
     "data": {
      "image/png": "[encoded data removed]",
      "text/plain": [
       "<Figure size 432x288 with 1 Axes>"
      ]
     },
     "metadata": {},
     "output_type": "display_data"
    }
   ],
   "source": [
    "%matplotlib inline\n",
    "import matplotlib.pyplot as plt\n",
    "\n",
    "\n",
    "sentiments.plot.bar(x='name', y='sentiment',rot=90, title='Sentiment per person (Afinn package)', legend=False)"
   ]
  },
  {
   "cell_type": "markdown",
   "metadata": {},
   "source": [
    "## TextBlob package"
   ]
  },
  {
   "cell_type": "code",
   "execution_count": 235,
   "metadata": {
    "collapsed": true
   },
   "outputs": [],
   "source": [
    "#import library\n",
    "from textblob import TextBlob"
   ]
  },
  {
   "cell_type": "code",
   "execution_count": 236,
   "metadata": {
    "scrolled": false
   },
   "outputs": [
    {
     "name": "stderr",
     "output_type": "stream",
     "text": [
      "C:\\Users\\Marija.Miljkovic\\Anaconda3\\lib\\site-packages\\ipykernel_launcher.py:1: SettingWithCopyWarning: \n",
      "A value is trying to be set on a copy of a slice from a DataFrame.\n",
      "Try using .loc[row_indexer,col_indexer] = value instead\n",
      "\n",
      "See the caveats in the documentation: http://pandas.pydata.org/pandas-docs/stable/indexing.html#indexing-view-versus-copy\n",
      "  \"\"\"Entry point for launching an IPython kernel.\n"
     ]
    }
   ],
   "source": [
    "#calculate polarity\n",
    "tw_sentences['text_blob_sentiment'] = tw_sentences['text'].apply(lambda tweet: TextBlob(tweet).sentiment)\n",
    "tw_sentences['sentiment'] = tw_sentences['text_blob_sentiment'].apply(lambda row: [x for x in row])\n",
    "tw_sentences['polarity'] = tw_sentences['sentiment'].str[0]\n",
    "tw_sentences.sort_values(by='polarity', ascending=False).head()"
   ]
  },
  {
   "cell_type": "code",
   "execution_count": 238,
   "metadata": {
    "scrolled": true
   },
   "outputs": [
    {
     "data": {
      "text/html": [
       "<div>\n",
       "<style scoped>\n",
       "    .dataframe tbody tr th:only-of-type {\n",
       "        vertical-align: middle;\n",
       "    }\n",
       "\n",
       "    .dataframe tbody tr th {\n",
       "        vertical-align: top;\n",
       "    }\n",
       "\n",
       "    .dataframe thead th {\n",
       "        text-align: right;\n",
       "    }\n",
       "</style>\n",
       "<table border=\"1\" class=\"dataframe\">\n",
       "  <thead>\n",
       "    <tr style=\"text-align: right;\">\n",
       "      <th></th>\n",
       "      <th>name</th>\n",
       "      <th>polarity</th>\n",
       "    </tr>\n",
       "  </thead>\n",
       "  <tbody>\n",
       "    <tr>\n",
       "      <th>0</th>\n",
       "      <td>Donald J. Trump</td>\n",
       "      <td>494.058759</td>\n",
       "    </tr>\n",
       "    <tr>\n",
       "      <th>1</th>\n",
       "      <td>Elon Musk</td>\n",
       "      <td>349.168503</td>\n",
       "    </tr>\n",
       "    <tr>\n",
       "      <th>2</th>\n",
       "      <td>Hadley Wickham</td>\n",
       "      <td>443.901284</td>\n",
       "    </tr>\n",
       "    <tr>\n",
       "      <th>3</th>\n",
       "      <td>Tim Ferriss</td>\n",
       "      <td>495.588522</td>\n",
       "    </tr>\n",
       "  </tbody>\n",
       "</table>\n",
       "</div>"
      ],
      "text/plain": [
       "              name    polarity\n",
       "0  Donald J. Trump  494.058759\n",
       "1        Elon Musk  349.168503\n",
       "2   Hadley Wickham  443.901284\n",
       "3      Tim Ferriss  495.588522"
      ]
     },
     "execution_count": 238,
     "metadata": {},
     "output_type": "execute_result"
    }
   ],
   "source": [
    "#general polarity per person\n",
    "blob_sentiments = tw_sentences.groupby(['name']).sum().reset_index()\n",
    "blob_sentiments = blob_sentiments[['name', 'polarity']]\n",
    "blob_sentiments"
   ]
  },
  {
   "cell_type": "code",
   "execution_count": 264,
   "metadata": {},
   "outputs": [
    {
     "data": {
      "text/plain": [
       "<matplotlib.axes._subplots.AxesSubplot at 0x283ac37da58>"
      ]
     },
     "execution_count": 264,
     "metadata": {},
     "output_type": "execute_result"
    },
    {
     "data": {
      "image/png": "[encoded data removed]",
      "text/plain": [
       "<Figure size 432x288 with 1 Axes>"
      ]
     },
     "metadata": {},
     "output_type": "display_data"
    }
   ],
   "source": [
    "blob_sentiments.plot.bar(x='name', y='polarity',rot=90, title='Sentiment per person (TextBlog package)', legend=False)"
   ]
  },
  {
   "cell_type": "markdown",
   "metadata": {},
   "source": [
    "## Create and analyze bigrams"
   ]
  },
  {
   "cell_type": "code",
   "execution_count": 240,
   "metadata": {
    "collapsed": true
   },
   "outputs": [],
   "source": [
    "#choose necessary columns\n",
    "tw_bigrams = tw_sentences[['name', 'text']]\n",
    "tw_bigrams.head()"
   ]
  },
  {
   "cell_type": "code",
   "execution_count": 242,
   "metadata": {
    "collapsed": true
   },
   "outputs": [],
   "source": [
    "#function for finding ngrams\n",
    "def find_ngrams(input_list, n):\n",
    "    return list(zip(*[input_list[i:] for i in range(n)]))"
   ]
  },
  {
   "cell_type": "code",
   "execution_count": 243,
   "metadata": {},
   "outputs": [
    {
     "name": "stderr",
     "output_type": "stream",
     "text": [
      "C:\\Users\\Marija.Miljkovic\\Anaconda3\\lib\\site-packages\\ipykernel_launcher.py:3: SettingWithCopyWarning: \n",
      "A value is trying to be set on a copy of a slice from a DataFrame.\n",
      "Try using .loc[row_indexer,col_indexer] = value instead\n",
      "\n",
      "See the caveats in the documentation: http://pandas.pydata.org/pandas-docs/stable/indexing.html#indexing-view-versus-copy\n",
      "  This is separate from the ipykernel package so we can avoid doing imports until\n"
     ]
    }
   ],
   "source": [
    "#import library\n",
    "from nltk import ngrams\n",
    "\n",
    "#create bigrams\n",
    "tw_bigrams['bigrams'] = tw_bigrams['text'].map(lambda x: find_ngrams(x.split(\" \"), 2))\n",
    "tw_bigrams.head()"
   ]
  },
  {
   "cell_type": "markdown",
   "metadata": {},
   "source": [
    "# Topic modeling"
   ]
  },
  {
   "cell_type": "code",
   "execution_count": 245,
   "metadata": {},
   "outputs": [
    {
     "name": "stdout",
     "output_type": "stream",
     "text": [
      "[nltk_data] Downloading package wordnet to\n",
      "[nltk_data]     C:\\Users\\Marija.Miljkovic\\AppData\\Roaming\\nltk_data...\n",
      "[nltk_data]   Package wordnet is already up-to-date!\n"
     ]
    }
   ],
   "source": [
    "#import libraries\n",
    "import nltk\n",
    "nltk.download('wordnet')\n",
    "from nltk.corpus import wordnet as wn\n",
    "\n",
    "#function for lemmatizing\n",
    "def get_lemma(word):\n",
    "    lemma = wn.morphy(word)\n",
    "    if lemma is None:\n",
    "        return word\n",
    "    else:\n",
    "        return lemma"
   ]
  },
  {
   "cell_type": "code",
   "execution_count": 246,
   "metadata": {},
   "outputs": [
    {
     "name": "stderr",
     "output_type": "stream",
     "text": [
      "C:\\Users\\Marija.Miljkovic\\Anaconda3\\lib\\site-packages\\ipykernel_launcher.py:1: SettingWithCopyWarning: \n",
      "A value is trying to be set on a copy of a slice from a DataFrame.\n",
      "Try using .loc[row_indexer,col_indexer] = value instead\n",
      "\n",
      "See the caveats in the documentation: http://pandas.pydata.org/pandas-docs/stable/indexing.html#indexing-view-versus-copy\n",
      "  \"\"\"Entry point for launching an IPython kernel.\n"
     ]
    }
   ],
   "source": [
    "#drop stopwords\n",
    "tw_tokens['tokens'] = tw_tokens['tokens'].apply(lambda x: [token for token in x if token not in en_stop])\n",
    "\n",
    "#lemmatize words\n",
    "tw_tokens['tokens'] = tw_tokens['tokens'].apply(lambda x: [get_lemma(token) for token in x])"
   ]
  },
  {
   "cell_type": "code",
   "execution_count": 248,
   "metadata": {},
   "outputs": [
    {
     "data": {
      "text/html": [
       "<div>\n",
       "<style scoped>\n",
       "    .dataframe tbody tr th:only-of-type {\n",
       "        vertical-align: middle;\n",
       "    }\n",
       "\n",
       "    .dataframe tbody tr th {\n",
       "        vertical-align: top;\n",
       "    }\n",
       "\n",
       "    .dataframe thead th {\n",
       "        text-align: right;\n",
       "    }\n",
       "</style>\n",
       "<table border=\"1\" class=\"dataframe\">\n",
       "  <thead>\n",
       "    <tr style=\"text-align: right;\">\n",
       "      <th></th>\n",
       "      <th>name</th>\n",
       "      <th>text</th>\n",
       "      <th>tokens</th>\n",
       "      <th>text_blob_sentiment</th>\n",
       "      <th>sentiment</th>\n",
       "      <th>polarity</th>\n",
       "    </tr>\n",
       "  </thead>\n",
       "  <tbody>\n",
       "    <tr>\n",
       "      <th>0</th>\n",
       "      <td>Donald J. Trump</td>\n",
       "      <td>consumer sentiment hit its highest level in 17...</td>\n",
       "      <td>[consumer, sentiment, hit, high, level, 17, ye...</td>\n",
       "      <td>(0.6, 0.95)</td>\n",
       "      <td>[0.6, 0.95]</td>\n",
       "      <td>0.600</td>\n",
       "    </tr>\n",
       "    <tr>\n",
       "      <th>1</th>\n",
       "      <td>Donald J. Trump</td>\n",
       "      <td>best economic numbers in decades  if the democ...</td>\n",
       "      <td>[best, economic, numbers, decade, democrat, ta...</td>\n",
       "      <td>(0.6, 0.25)</td>\n",
       "      <td>[0.6, 0.25]</td>\n",
       "      <td>0.600</td>\n",
       "    </tr>\n",
       "    <tr>\n",
       "      <th>2</th>\n",
       "      <td>Donald J. Trump</td>\n",
       "      <td>watch   at 6 00 p m  on    russian hoax the bi...</td>\n",
       "      <td>[watch, 6, 00, p, russian, hoax, big, topic, m...</td>\n",
       "      <td>(-0.075, 0.35000000000000003)</td>\n",
       "      <td>[-0.075, 0.35000000000000003]</td>\n",
       "      <td>-0.075</td>\n",
       "    </tr>\n",
       "    <tr>\n",
       "      <th>3</th>\n",
       "      <td>Donald J. Trump</td>\n",
       "      <td>congratulations to all of our mexican friends ...</td>\n",
       "      <td>[congratulations, mexican, friend, national, i...</td>\n",
       "      <td>(0.4, 0.375)</td>\n",
       "      <td>[0.4, 0.375]</td>\n",
       "      <td>0.400</td>\n",
       "    </tr>\n",
       "    <tr>\n",
       "      <th>4</th>\n",
       "      <td>Donald J. Trump</td>\n",
       "      <td>i think full transparency is in order here    ...</td>\n",
       "      <td>[think, full, transparency, order, sundayfutures]</td>\n",
       "      <td>(0.35, 0.55)</td>\n",
       "      <td>[0.35, 0.55]</td>\n",
       "      <td>0.350</td>\n",
       "    </tr>\n",
       "  </tbody>\n",
       "</table>\n",
       "</div>"
      ],
      "text/plain": [
       "              name                                               text  \\\n",
       "0  Donald J. Trump  consumer sentiment hit its highest level in 17...   \n",
       "1  Donald J. Trump  best economic numbers in decades  if the democ...   \n",
       "2  Donald J. Trump  watch   at 6 00 p m  on    russian hoax the bi...   \n",
       "3  Donald J. Trump  congratulations to all of our mexican friends ...   \n",
       "4  Donald J. Trump  i think full transparency is in order here    ...   \n",
       "\n",
       "                                              tokens  \\\n",
       "0  [consumer, sentiment, hit, high, level, 17, ye...   \n",
       "1  [best, economic, numbers, decade, democrat, ta...   \n",
       "2  [watch, 6, 00, p, russian, hoax, big, topic, m...   \n",
       "3  [congratulations, mexican, friend, national, i...   \n",
       "4  [think, full, transparency, order, sundayfutures]   \n",
       "\n",
       "             text_blob_sentiment                      sentiment  polarity  \n",
       "0                    (0.6, 0.95)                    [0.6, 0.95]     0.600  \n",
       "1                    (0.6, 0.25)                    [0.6, 0.25]     0.600  \n",
       "2  (-0.075, 0.35000000000000003)  [-0.075, 0.35000000000000003]    -0.075  \n",
       "3                   (0.4, 0.375)                   [0.4, 0.375]     0.400  \n",
       "4                   (0.35, 0.55)                   [0.35, 0.55]     0.350  "
      ]
     },
     "execution_count": 248,
     "metadata": {},
     "output_type": "execute_result"
    }
   ],
   "source": [
    "tw_tokens.head()"
   ]
  },
  {
   "cell_type": "code",
   "execution_count": 249,
   "metadata": {},
   "outputs": [],
   "source": [
    "from gensim import corpora\n",
    "import pickle\n",
    "import gensim\n",
    "import pyLDAvis.gensim\n",
    "\n",
    "#create dictionary and corpus\n",
    "dictionary = corpora.Dictionary(tw_tokens['tokens'])\n",
    "corpus = [dictionary.doc2bow(text) for text in tw_tokens['tokens']]\n",
    "\n",
    "#save dictionary\n",
    "pickle.dump(corpus, open('corpus.pkl', 'wb'))\n",
    "dictionary.save('dictionary.gensim')"
   ]
  },
  {
   "cell_type": "code",
   "execution_count": 252,
   "metadata": {},
   "outputs": [
    {
     "name": "stdout",
     "output_type": "stream",
     "text": [
      "(0, '0.013*\"great\" + 0.010*\"amp\" + 0.007*\"get\" + 0.007*\"people\" + 0.007*\"model\" + 0.007*\"make\" + 0.006*\"big\" + 0.005*\"want\" + 0.005*\"time\" + 0.005*\"today\"')\n",
      "(1, '0.008*\"people\" + 0.007*\"amp\" + 0.006*\"one\" + 0.005*\"know\" + 0.005*\"work\" + 0.005*\"art\" + 0.005*\"tbt\" + 0.005*\"4\" + 0.004*\"get\" + 0.004*\"like\"')\n",
      "(2, '0.015*\"5\" + 0.014*\"tesla\" + 0.009*\"car\" + 0.009*\"amp\" + 0.007*\"20\" + 0.007*\"000\" + 0.006*\"10\" + 0.006*\"1\" + 0.006*\"travel\" + 0.006*\"world\"')\n",
      "(3, '0.017*\"rstats\" + 0.012*\"new\" + 0.011*\"data\" + 0.009*\"r\" + 0.007*\"like\" + 0.007*\"use\" + 0.006*\"package\" + 0.005*\"want\" + 0.005*\"get\" + 0.005*\"science\"')\n",
      "(4, '0.015*\"podcast\" + 0.014*\"episode\" + 0.013*\"book\" + 0.008*\"full\" + 0.008*\"yes\" + 0.007*\"interview\" + 0.007*\"time\" + 0.007*\"thanks\" + 0.007*\"one\" + 0.007*\"life\"')\n"
     ]
    }
   ],
   "source": [
    "NUM_TOPICS = 5 #choose number of topics\n",
    "\n",
    "#create LDA model\n",
    "ldamodel = gensim.models.ldamodel.LdaModel(corpus, num_topics = NUM_TOPICS, id2word=dictionary, passes=15)\n",
    "ldamodel.save('model5.gensim') #save model\n",
    "\n",
    "topics = ldamodel.print_topics(num_words=10) #choose number of words per topic\n",
    "\n",
    "#print topics\n",
    "for topic in topics:\n",
    "    print(topic)"
   ]
  },
  {
   "cell_type": "code",
   "execution_count": 251,
   "metadata": {},
   "outputs": [
    {
     "name": "stderr",
     "output_type": "stream",
     "text": [
      "C:\\Users\\Marija.Miljkovic\\Anaconda3\\lib\\site-packages\\pyLDAvis\\_prepare.py:257: FutureWarning: Sorting because non-concatenation axis is not aligned. A future version\n",
      "of pandas will change to not sort by default.\n",
      "\n",
      "To accept the future behavior, pass 'sort=False'.\n",
      "\n",
      "To retain the current behavior and silence the warning, pass 'sort=True'.\n",
      "\n",
      "  return pd.concat([default_term_info] + list(topic_dfs))\n"
     ]
    },
    {
     "data": {
      "text/html": [
       "\n",
       "<link rel=\"stylesheet\" type=\"text/css\" href=\"https://cdn.rawgit.com/bmabey/pyLDAvis/files/ldavis.v1.0.0.css\">\n",
       "\n",
       "\n",
       "<div id=\"ldavis_el1352427645215619281946821215\"></div>\n",
       "<script type=\"text/javascript\">\n",
       "\n",
       "var ldavis_el1352427645215619281946821215_data = {\"mdsDat\": {\"x\": [-0.04286908675930954, -0.09849565773509111, 0.2896470545083129, -0.05361984497699063, -0.09466246503692173], \"y\": [-0.029542478283238745, 0.15699959740793348, 0.03241381858762547, -0.25156835917342185, 0.09169742146110156], \"topics\": [1, 2, 3, 4, 5], \"cluster\": [1, 1, 1, 1, 1], \"Freq\": [17.421653747558594, 25.915136337280273, 11.838929176330566, 22.273502349853516, 22.5507755279541]}, \"tinfo\": {\"Category\": [\"Default\", \"Default\", \"Default\", \"Default\", \"Default\", \"Default\", \"Default\", \"Default\", \"Default\", \"Default\", \"Default\", \"Default\", \"Default\", \"Default\", \"Default\", \"Default\", \"Default\", \"Default\", \"Default\", \"Default\", \"Default\", \"Default\", \"Default\", \"Default\", \"Default\", \"Default\", \"Default\", \"Default\", \"Default\", \"Default\", \"Topic1\", \"Topic1\", \"Topic1\", \"Topic1\", \"Topic1\", \"Topic1\", \"Topic1\", \"Topic1\", \"Topic1\", \"Topic1\", \"Topic1\", \"Topic1\", \"Topic1\", \"Topic1\", \"Topic1\", \"Topic1\", \"Topic1\", \"Topic1\", \"Topic1\", \"Topic1\", \"Topic1\", \"Topic1\", \"Topic1\", \"Topic1\", \"Topic1\", \"Topic1\", \"Topic1\", \"Topic1\", \"Topic1\", \"Topic1\", \"Topic1\", \"Topic1\", \"Topic1\", \"Topic1\", \"Topic1\", \"Topic1\", \"Topic1\", \"Topic1\", \"Topic1\", \"Topic1\", \"Topic1\", \"Topic1\", \"Topic1\", \"Topic1\", \"Topic1\", \"Topic1\", \"Topic1\", \"Topic1\", \"Topic1\", \"Topic1\", \"Topic1\", \"Topic1\", \"Topic1\", \"Topic1\", \"Topic1\", \"Topic1\", \"Topic1\", \"Topic1\", \"Topic1\", \"Topic1\", \"Topic1\", \"Topic1\", \"Topic2\", \"Topic2\", \"Topic2\", \"Topic2\", \"Topic2\", \"Topic2\", \"Topic2\", \"Topic2\", \"Topic2\", \"Topic2\", \"Topic2\", \"Topic2\", \"Topic2\", \"Topic2\", \"Topic2\", \"Topic2\", \"Topic2\", \"Topic2\", \"Topic2\", \"Topic2\", \"Topic2\", \"Topic2\", \"Topic2\", \"Topic2\", \"Topic2\", \"Topic2\", \"Topic2\", \"Topic2\", \"Topic2\", \"Topic2\", \"Topic2\", \"Topic2\", \"Topic2\", \"Topic2\", \"Topic2\", \"Topic2\", \"Topic2\", \"Topic2\", \"Topic2\", \"Topic2\", \"Topic2\", \"Topic2\", \"Topic2\", \"Topic2\", \"Topic2\", \"Topic2\", \"Topic2\", \"Topic2\", \"Topic2\", \"Topic2\", \"Topic2\", \"Topic2\", \"Topic2\", \"Topic2\", \"Topic2\", \"Topic2\", \"Topic2\", \"Topic2\", \"Topic2\", \"Topic2\", \"Topic3\", \"Topic3\", \"Topic3\", \"Topic3\", \"Topic3\", \"Topic3\", \"Topic3\", \"Topic3\", \"Topic3\", \"Topic3\", \"Topic3\", \"Topic3\", \"Topic3\", \"Topic3\", \"Topic3\", \"Topic3\", \"Topic3\", \"Topic3\", \"Topic3\", \"Topic3\", \"Topic3\", \"Topic3\", \"Topic3\", \"Topic3\", \"Topic3\", \"Topic3\", \"Topic3\", \"Topic3\", \"Topic3\", \"Topic3\", \"Topic3\", \"Topic3\", \"Topic3\", \"Topic3\", \"Topic3\", \"Topic3\", \"Topic3\", \"Topic3\", \"Topic3\", \"Topic3\", \"Topic3\", \"Topic3\", \"Topic3\", \"Topic3\", \"Topic3\", \"Topic3\", \"Topic3\", \"Topic3\", \"Topic4\", \"Topic4\", \"Topic4\", \"Topic4\", \"Topic4\", \"Topic4\", \"Topic4\", \"Topic4\", \"Topic4\", \"Topic4\", \"Topic4\", \"Topic4\", \"Topic4\", \"Topic4\", \"Topic4\", \"Topic4\", \"Topic4\", \"Topic4\", \"Topic4\", \"Topic4\", \"Topic4\", \"Topic4\", \"Topic4\", \"Topic4\", \"Topic4\", \"Topic4\", \"Topic4\", \"Topic4\", \"Topic4\", \"Topic4\", \"Topic4\", \"Topic4\", \"Topic4\", \"Topic4\", \"Topic4\", \"Topic4\", \"Topic4\", \"Topic4\", \"Topic4\", \"Topic4\", \"Topic4\", \"Topic4\", \"Topic4\", \"Topic4\", \"Topic4\", \"Topic4\", \"Topic4\", \"Topic4\", \"Topic4\", \"Topic4\", \"Topic4\", \"Topic4\", \"Topic4\", \"Topic4\", \"Topic4\", \"Topic4\", \"Topic4\", \"Topic4\", \"Topic5\", \"Topic5\", \"Topic5\", \"Topic5\", \"Topic5\", \"Topic5\", \"Topic5\", \"Topic5\", \"Topic5\", \"Topic5\", \"Topic5\", \"Topic5\", \"Topic5\", \"Topic5\", \"Topic5\", \"Topic5\", \"Topic5\", \"Topic5\", \"Topic5\", \"Topic5\", \"Topic5\", \"Topic5\", \"Topic5\", \"Topic5\", \"Topic5\", \"Topic5\", \"Topic5\", \"Topic5\", \"Topic5\", \"Topic5\", \"Topic5\", \"Topic5\", \"Topic5\", \"Topic5\", \"Topic5\", \"Topic5\", \"Topic5\", \"Topic5\", \"Topic5\", \"Topic5\", \"Topic5\", \"Topic5\", \"Topic5\", \"Topic5\", \"Topic5\", \"Topic5\", \"Topic5\", \"Topic5\", \"Topic5\", \"Topic5\", \"Topic5\", \"Topic5\", \"Topic5\", \"Topic5\", \"Topic5\", \"Topic5\", \"Topic5\", \"Topic5\", \"Topic5\", \"Topic5\", \"Topic5\", \"Topic5\", \"Topic5\"], \"Freq\": [515.0, 391.0, 816.0, 362.0, 339.0, 320.0, 409.0, 349.0, 207.0, 238.0, 285.0, 154.0, 448.0, 215.0, 198.0, 133.0, 130.0, 156.0, 438.0, 222.0, 179.0, 169.0, 413.0, 115.0, 302.0, 390.0, 178.0, 175.0, 108.0, 177.0, 155.68870544433594, 118.81388092041016, 86.57929229736328, 83.94508361816406, 73.93246459960938, 73.29556274414062, 74.3486557006836, 72.19497680664062, 64.69113159179688, 64.2911148071289, 63.01840591430664, 62.43526077270508, 61.04686737060547, 55.55253601074219, 53.504573822021484, 51.86253356933594, 51.0313606262207, 50.658390045166016, 51.47744369506836, 48.43937683105469, 46.51182174682617, 46.06947326660156, 42.76083755493164, 42.32942199707031, 41.03520965576172, 42.1756477355957, 40.870052337646484, 41.06514358520508, 39.278865814208984, 38.28403854370117, 38.351749420166016, 46.359397888183594, 125.67919921875, 79.34969329833984, 172.61602783203125, 167.6224822998047, 162.00848388671875, 84.80095672607422, 186.2871856689453, 74.30244445800781, 220.34791564941406, 212.29312133789062, 120.03292083740234, 151.2515106201172, 140.61521911621094, 78.3670883178711, 99.34149169921875, 78.48426818847656, 131.64935302734375, 144.85411071777344, 107.729736328125, 134.13534545898438, 118.4765396118164, 147.8112030029297, 94.90709686279297, 98.57589721679688, 108.44637298583984, 109.821044921875, 88.56201934814453, 92.8424301147461, 84.49913787841797, 84.540771484375, 177.8245391845703, 174.54241943359375, 172.10031127929688, 153.10324096679688, 142.06163024902344, 130.97048950195312, 111.72889709472656, 108.87271881103516, 103.02881622314453, 99.3104019165039, 97.15109252929688, 92.20502471923828, 85.02969360351562, 79.053466796875, 77.87360382080078, 73.87950134277344, 79.76238250732422, 70.34910583496094, 68.71482849121094, 69.91911315917969, 64.60709381103516, 60.85112762451172, 60.81711196899414, 61.51873779296875, 61.469539642333984, 53.28611373901367, 52.9582405090332, 51.75769805908203, 51.63290023803711, 50.090171813964844, 64.75282287597656, 145.4315185546875, 91.1700439453125, 107.18325805664062, 663.87744140625, 126.17803955078125, 94.94781494140625, 270.6864929199219, 163.9189453125, 150.8053436279297, 214.76260375976562, 110.14640045166016, 455.5469970703125, 145.773681640625, 117.54022979736328, 191.40579223632812, 140.53158569335938, 114.23828125, 181.3711395263672, 170.89088439941406, 120.1723403930664, 158.26498413085938, 168.0336151123047, 128.66510009765625, 137.77537536621094, 147.4479522705078, 135.6219024658203, 115.76435852050781, 117.63414001464844, 115.02481842041016, 153.10757446289062, 132.54898071289062, 129.23902893066406, 114.16798400878906, 107.55516815185547, 84.92105102539062, 82.15158081054688, 71.7944564819336, 66.68806457519531, 64.77949523925781, 62.56267166137695, 59.30514907836914, 57.25011444091797, 51.83735275268555, 46.53609085083008, 77.81454467773438, 44.55317687988281, 43.215274810791016, 40.92100143432617, 48.74699401855469, 39.15056610107422, 38.20754623413086, 37.5156135559082, 36.93515396118164, 36.41128921508789, 35.33481979370117, 35.787994384765625, 35.066062927246094, 35.18023681640625, 33.72739791870117, 168.82456970214844, 239.87474060058594, 204.2494659423828, 83.2750244140625, 42.38804626464844, 95.66783905029297, 98.2171859741211, 60.89167404174805, 132.2679901123047, 119.21830749511719, 82.60335540771484, 60.21556854248047, 83.13751983642578, 53.747779846191406, 57.47376251220703, 55.671653747558594, 58.77292251586914, 60.76390838623047, 514.7327880859375, 390.47930908203125, 362.07232666015625, 319.255615234375, 237.7468719482422, 197.35861206054688, 178.5421142578125, 134.38133239746094, 132.87484741210938, 114.48088836669922, 100.77304077148438, 95.95555877685547, 95.87022399902344, 92.83604431152344, 86.55741119384766, 86.67322540283203, 85.40726470947266, 87.71844482421875, 82.31387329101562, 78.3765869140625, 74.13495635986328, 75.26438903808594, 66.02501678466797, 65.34933471679688, 63.35905838012695, 61.051002502441406, 60.27952575683594, 60.00770950317383, 56.56537628173828, 52.787349700927734, 210.7658233642578, 78.47708129882812, 104.89496612548828, 87.4077377319336, 325.5859069824219, 258.4811706542969, 202.4522247314453, 75.54544067382812, 131.92787170410156, 130.8813934326172, 307.6343994140625, 113.23873138427734, 343.99542236328125, 129.28866577148438, 156.62887573242188, 136.09364318847656, 119.56172180175781, 179.78952026367188, 135.4110107421875, 144.2890167236328, 115.20454406738281, 120.72659301757812, 117.622802734375, 127.09312438964844, 133.61361694335938, 121.88673400878906, 119.07280731201172, 118.15612030029297, 168.33377075195312, 131.5281982421875, 125.8619613647461, 121.54861450195312, 118.15474700927734, 105.2677230834961, 104.36993408203125, 102.27017211914062, 94.31563568115234, 73.20370483398438, 71.54425048828125, 70.05110168457031, 66.96891021728516, 69.04586791992188, 66.59065246582031, 59.63214874267578, 54.50944137573242, 52.70120620727539, 55.33293533325195, 51.06117630004883, 48.17206954956055, 48.1807746887207, 44.89774703979492, 41.318885803222656, 40.75370788574219, 38.63837432861328, 38.09941101074219, 40.18828201293945, 38.24591827392578, 34.577789306640625, 169.79217529296875, 91.7964096069336, 106.02471160888672, 115.5865707397461, 56.77641677856445, 202.65631103515625, 68.03069305419922, 289.8829345703125, 118.98494720458984, 147.14938354492188, 151.0690155029297, 96.98698425292969, 100.78722381591797, 94.65574645996094, 247.19512939453125, 333.9051818847656, 97.82661437988281, 177.01467895507812, 131.34600830078125, 194.06094360351562, 188.6758575439453, 187.13536071777344, 140.0514373779297, 147.92918395996094, 155.92967224121094, 152.77207946777344, 134.00790405273438, 154.34780883789062, 129.53948974609375, 132.17575073242188, 108.88709259033203, 107.85310363769531, 109.3307113647461], \"Term\": [\"rstats\", \"podcast\", \"great\", \"3\", \"episode\", \"1\", \"life\", \"data\", \"full\", \"model\", \"r\", \"yes\", \"5\", \"read\", \"4\", \"listen\", \"tim\", \"science\", \"book\", \"2\", \"package\", \"news\", \"thanks\", \"lesson\", \"say\", \"world\", \"launch\", \"tax\", \"travel\", \"learning\", \"science\", \"anything\", \"answer\", \"email\", \"sleep\", \"fbi\", \"goal\", \"exactly\", \"etc\", \"issue\", \"guest\", \"mail\", \"creative\", \"journal\", \"collusion\", \"hillary\", \"clinton\", \"ok\", \"skill\", \"hunt\", \"witch\", \"fearlesstv\", \"simple\", \"cc\", \"template\", \"pull\", \"brain\", \"mental\", \"mini\", \"crook\", \"coffee\", \"practice\", \"question\", \"fear\", \"know\", \"say\", \"see\", \"morning\", \"thanks\", \"yeah\", \"one\", \"like\", \"never\", \"would\", \"want\", \"call\", \"try\", \"something\", \"need\", \"people\", \"look\", \"time\", \"first\", \"amp\", \"think\", \"episode\", \"get\", \"new\", \"show\", \"work\", \"le\", \"right\", \"launch\", \"tax\", \"9\", \"border\", \"falcon\", \"magic\", \"cut\", \"rocket\", \"investor\", \"republican\", \"military\", \"drug\", \"security\", \"north\", \"heavy\", \"korea\", \"testing\", \"weekend\", \"wall\", \"listening\", \"la\", \"immigration\", \"tech\", \"kevin\", \"hellmuth\", \"de\", \"king\", \"stock\", \"land\", \"senate\", \"congratulations\", \"america\", \"crime\", \"vote\", \"great\", \"american\", \"strong\", \"big\", \"job\", \"president\", \"today\", \"win\", \"amp\", \"high\", \"democrat\", \"thank\", \"tbt\", \"state\", \"first\", \"world\", \"last\", \"need\", \"people\", \"country\", \"love\", \"make\", \"time\", \"us\", \"get\", \"go\", \"yes\", \"listen\", \"tim\", \"lesson\", \"travel\", \"ferriss\", \"art\", \"self\", \"billionaire\", \"explain\", \"tony\", \"robbins\", \"body\", \"recommend\", \"17\", \"mind\", \"definitely\", \"study\", \"random\", \"white\", \"minutes\", \"highly\", \"impossible\", \"thetimferrissshow\", \"investing\", \"invest\", \"guy\", \"b\", \"ryan\", \"solar\", \"full\", \"episode\", \"life\", \"performance\", \"startup\", \"interview\", \"change\", \"success\", \"book\", \"world\", \"show\", \"via\", \"one\", \"man\", \"question\", \"story\", \"tesla\", \"like\", \"rstats\", \"podcast\", \"3\", \"1\", \"model\", \"4\", \"package\", \"code\", \"enjoy\", \"favorite\", \"0\", \"x\", \"reading\", \"tidyverse\", \"blog\", \"guide\", \"ggplot2\", \"access\", \"pound\", \"version\", \"gt\", \"awesome\", \"rstudio\", \"goody\", \"project\", \"update\", \"software\", \"master\", \"conference\", \"cran\", \"read\", \"design\", \"friday\", \"bullet\", \"data\", \"r\", \"2\", \"fun\", \"post\", \"using\", \"5\", \"hour\", \"new\", \"month\", \"week\", \"check\", \"tip\", \"use\", \"next\", \"10\", \"20\", \"talk\", \"learn\", \"thanks\", \"one\", \"make\", \"get\", \"time\", \"news\", \"fake\", \"video\", \"medium\", \"language\", \"tribe\", \"might\", \"trick\", \"author\", \"quote\", \"titan\", \"fat\", \"super\", \"example\", \"daily\", \"york\", \"shape\", \"player\", \"entrepreneur\", \"excellent\", \"decision\", \"personal\", \"80\", \"sense\", \"prodigy\", \"elon\", \"guitar\", \"writer\", \"overcome\", \"parent\", \"learning\", \"trade\", \"times\", \"mentor\", \"truth\", \"many\", \"advice\", \"good\", \"always\", \"car\", \"ever\", \"coming\", \"tool\", \"important\", \"make\", \"amp\", \"soon\", \"book\", \"learn\", \"get\", \"people\", \"like\", \"best\", \"tesla\", \"life\", \"want\", \"thank\", \"time\", \"much\", \"new\", \"say\", \"country\", \"great\"], \"Total\": [515.0, 391.0, 816.0, 362.0, 339.0, 320.0, 409.0, 349.0, 207.0, 238.0, 285.0, 154.0, 448.0, 215.0, 198.0, 133.0, 130.0, 156.0, 438.0, 222.0, 179.0, 169.0, 413.0, 115.0, 302.0, 390.0, 178.0, 175.0, 108.0, 177.0, 156.5567626953125, 119.673828125, 87.4354476928711, 84.79598236083984, 74.78834533691406, 74.14675903320312, 75.22016906738281, 73.05110931396484, 65.55111694335938, 65.15179443359375, 63.87032699584961, 63.284915924072266, 61.933372497558594, 56.40102005004883, 54.354095458984375, 52.71101760864258, 51.8824577331543, 51.51414489746094, 52.34722137451172, 49.28983688354492, 47.36199951171875, 46.91500473022461, 43.61966323852539, 43.20185470581055, 41.88232421875, 43.05278778076172, 41.74732971191406, 41.946659088134766, 40.14485549926758, 39.13253402709961, 39.20183563232422, 49.17109298706055, 183.8523406982422, 104.26189422607422, 308.8533020019531, 302.14984130859375, 323.0856628417969, 122.68913269042969, 413.6467590332031, 101.08514404296875, 580.8748779296875, 562.8924560546875, 238.74510192871094, 377.7618408203125, 417.8662109375, 128.0020751953125, 212.88839721679688, 129.42727661132812, 441.08795166015625, 572.0122680664062, 278.7165832519531, 567.6937255859375, 442.14068603515625, 1027.3131103515625, 277.1141662597656, 339.1487121582031, 556.2658081054688, 652.22509765625, 225.49676513671875, 366.0211181640625, 202.64842224121094, 222.925048828125, 178.63076782226562, 175.3424530029297, 172.92645263671875, 153.9005126953125, 142.86204528808594, 131.78370666503906, 112.529052734375, 109.68340301513672, 103.85636138916016, 100.10909271240234, 97.94853210449219, 93.00745391845703, 85.83174133300781, 79.85707092285156, 78.68359375, 74.67829895019531, 80.62483978271484, 71.160888671875, 69.5176773071289, 70.74829864501953, 65.41153717041016, 61.65013122558594, 61.648380279541016, 62.39870834350586, 62.38920593261719, 54.084938049316406, 53.774959564208984, 52.56031799316406, 52.44313049316406, 50.89088439941406, 65.90582275390625, 149.672119140625, 95.2666244506836, 113.85579681396484, 816.3317260742188, 139.03126525878906, 103.1820297241211, 364.38409423828125, 207.2749786376953, 192.16171264648438, 305.86285400390625, 132.80136108398438, 1027.3131103515625, 204.78590393066406, 150.2042236328125, 330.805419921875, 210.1976318359375, 165.04385375976562, 442.14068603515625, 390.368896484375, 192.44837951660156, 441.08795166015625, 572.0122680664062, 247.5691375732422, 334.99432373046875, 617.6640625, 567.6937255859375, 256.30523681640625, 556.2658081054688, 271.1379089355469, 154.02127075195312, 133.4617156982422, 130.15206909179688, 115.08097076416016, 108.46096801757812, 85.82562255859375, 83.07197570800781, 72.70928955078125, 67.59606170654297, 65.68879699707031, 63.46681594848633, 60.2087287902832, 58.174163818359375, 52.747005462646484, 47.45315170288086, 79.38352966308594, 45.46535110473633, 44.13076400756836, 41.82891082763672, 49.856849670410156, 40.07832717895508, 39.12556076049805, 38.427574157714844, 37.852718353271484, 37.320037841796875, 36.240169525146484, 36.70771408081055, 35.984886169433594, 36.10245895385742, 34.642616271972656, 207.82232666015625, 339.1487121582031, 409.42608642578125, 121.57164764404297, 47.100032806396484, 160.8908233642578, 225.04177856445312, 94.79345703125, 438.0718688964844, 390.368896484375, 225.49676513671875, 142.59698486328125, 580.8748779296875, 113.33917999267578, 183.8523406982422, 174.66314697265625, 348.34002685546875, 562.8924560546875, 515.5861206054688, 391.3764953613281, 362.9381103515625, 320.11968994140625, 238.6099090576172, 198.21881103515625, 179.39508056640625, 135.23805236816406, 133.73670959472656, 115.35688018798828, 101.62776947021484, 96.81228637695312, 96.7348403930664, 93.6883316040039, 87.41484069824219, 87.53509521484375, 86.2596435546875, 88.60821533203125, 83.18348693847656, 79.23445892333984, 74.98823547363281, 76.13099670410156, 66.8785629272461, 66.20555877685547, 64.218505859375, 61.90800857543945, 61.1704216003418, 60.903446197509766, 57.42408752441406, 53.6404914855957, 215.79637145996094, 79.81885528564453, 107.07505798339844, 89.30069732666016, 349.0764465332031, 285.8458251953125, 222.09524536132812, 77.33924102783203, 152.53118896484375, 151.96815490722656, 448.1219177246094, 127.53192901611328, 652.22509765625, 164.86572265625, 237.45761108398438, 194.4635467529297, 162.1562042236328, 361.3194885253906, 211.3651885986328, 254.82559204101562, 163.92994689941406, 194.5635223388672, 249.6162109375, 413.6467590332031, 580.8748779296875, 617.6640625, 556.2658081054688, 567.6937255859375, 169.17503356933594, 132.3681182861328, 126.71760559082031, 122.39102935791016, 119.01277160644531, 106.1192855834961, 105.22740936279297, 103.1281509399414, 95.16851043701172, 74.04878997802734, 72.39352416992188, 70.90220642089844, 67.8255615234375, 69.95822143554688, 67.47505950927734, 60.47632598876953, 55.37222671508789, 53.541629791259766, 56.22605895996094, 51.9223518371582, 49.015628814697266, 49.02650451660156, 45.7544059753418, 42.169891357421875, 41.634124755859375, 39.477943420410156, 38.9352912902832, 41.08391571044922, 39.13279342651367, 35.429039001464844, 177.228759765625, 99.03800201416016, 118.79682922363281, 133.36221313476562, 60.57450485229492, 271.03594970703125, 76.39517974853516, 439.54827880859375, 150.4649658203125, 233.633544921875, 264.54583740234375, 136.759521484375, 145.77767944335938, 132.4842987060547, 617.6640625, 1027.3131103515625, 141.83558654785156, 438.0718688964844, 249.6162109375, 556.2658081054688, 572.0122680664062, 562.8924560546875, 305.56658935546875, 348.34002685546875, 409.42608642578125, 417.8662109375, 330.805419921875, 567.6937255859375, 376.83050537109375, 652.22509765625, 302.14984130859375, 247.5691375732422, 816.3317260742188], \"loglift\": [30.0, 29.0, 28.0, 27.0, 26.0, 25.0, 24.0, 23.0, 22.0, 21.0, 20.0, 19.0, 18.0, 17.0, 16.0, 15.0, 14.0, 13.0, 12.0, 11.0, 10.0, 9.0, 8.0, 7.0, 6.0, 5.0, 4.0, 3.0, 2.0, 1.0, 1.7418999671936035, 1.7402000427246094, 1.7375999689102173, 1.7374000549316406, 1.7359000444412231, 1.7359000444412231, 1.73580002784729, 1.735700011253357, 1.7343000173568726, 1.7342000007629395, 1.7339999675750732, 1.7338999509811401, 1.7330000400543213, 1.732300043106079, 1.7316999435424805, 1.7311999797821045, 1.7309000492095947, 1.7307000160217285, 1.7307000160217285, 1.7301000356674194, 1.7293000221252441, 1.7293000221252441, 1.7275999784469604, 1.7271000146865845, 1.7269999980926514, 1.7268999814987183, 1.726199984550476, 1.726199984550476, 1.725600004196167, 1.7254999876022339, 1.7254999876022339, 1.688599944114685, 1.3671000003814697, 1.4744000434875488, 1.1656999588012695, 1.1582000255584717, 1.0571999549865723, 1.378100037574768, 0.9496999979019165, 1.4395999908447266, 0.7781000137329102, 0.7723000049591064, 1.0598000288009644, 0.832099974155426, 0.65829998254776, 1.2568000555038452, 0.9853000044822693, 1.2472000122070312, 0.5383999943733215, 0.37400001287460327, 0.7968999743461609, 0.30469998717308044, 0.43050000071525574, -0.19130000472068787, 0.6758999824523926, 0.5117999911308289, 0.11249999701976776, -0.0340999998152256, 0.8129000067710876, 0.3756999969482422, 0.8726999759674072, 0.777899980545044, 1.3458000421524048, 1.3458000421524048, 1.3456000089645386, 1.3451000452041626, 1.3446999788284302, 1.3442000150680542, 1.3431999683380127, 1.342900037765503, 1.3423000574111938, 1.3423000574111938, 1.3422000408172607, 1.3416999578475952, 1.340999960899353, 1.3401999473571777, 1.340000033378601, 1.3395999670028687, 1.3395999670028687, 1.3388999700546265, 1.3387000560760498, 1.3386000394821167, 1.3380000591278076, 1.3372999429702759, 1.3367999792099, 1.3360999822616577, 1.3355000019073486, 1.3355000019073486, 1.3350000381469727, 1.3350000381469727, 1.3348000049591064, 1.3344999551773071, 1.3327000141143799, 1.3215999603271484, 1.306399941444397, 1.2899999618530273, 1.1435999870300293, 1.2532999515533447, 1.267199993133545, 1.0530999898910522, 1.1157000064849854, 1.1080000400543213, 0.9966999888420105, 1.1633000373840332, 0.5371000170707703, 1.0104000568389893, 1.1051000356674194, 0.8032000064849854, 0.947700023651123, 0.9824000000953674, 0.4593000113964081, 0.5242999792098999, 0.8794000148773193, 0.3253999948501587, 0.12530000507831573, 0.695900022983551, 0.461899995803833, -0.08209999650716782, -0.08139999955892563, 0.5554999709129333, -0.20329999923706055, 0.492900013923645, 2.1277999877929688, 2.1268999576568604, 2.126699924468994, 2.1257998943328857, 2.1254000663757324, 2.123199939727783, 2.1226000785827637, 2.1210999488830566, 2.120300054550171, 2.119800090789795, 2.1194000244140625, 2.1187000274658203, 2.117799997329712, 2.1164000034332275, 2.114300012588501, 2.113800048828125, 2.1135001182556152, 2.112799882888794, 2.111799955368042, 2.111299991607666, 2.1103999614715576, 2.109999895095825, 2.109800100326538, 2.1092000007629395, 2.109100103378296, 2.1085000038146973, 2.1084001064300537, 2.1078999042510986, 2.1078999042510986, 2.1070001125335693, 1.9259999990463257, 1.787500023841858, 1.4384000301361084, 1.7553999423980713, 2.02839994430542, 1.6138999462127686, 1.3047000169754028, 1.6912000179290771, 0.9362000226974487, 0.9476000070571899, 1.1295000314712524, 1.2717000246047974, 0.18970000743865967, 1.3876999616622925, 0.9710000157356262, 0.9904000163078308, 0.35429999232292175, -0.09229999780654907, 1.500100016593933, 1.499500036239624, 1.499400019645691, 1.4990999698638916, 1.4981000423431396, 1.4974000453948975, 1.496999979019165, 1.4953999519348145, 1.495300054550171, 1.4940999746322632, 1.493299961090088, 1.492900013923645, 1.492799997329712, 1.4925999641418457, 1.4918999671936035, 1.4918999671936035, 1.4917999505996704, 1.4917000532150269, 1.4912999868392944, 1.4909000396728516, 1.4903000593185425, 1.4903000593185425, 1.4888999462127686, 1.488800048828125, 1.4882999658584595, 1.4878000020980835, 1.4871000051498413, 1.4869999885559082, 1.4867000579833984, 1.485700011253357, 1.4781999588012695, 1.4847999811172485, 1.4811999797821045, 1.480299949645996, 1.4321000576019287, 1.4011000394821167, 1.4091999530792236, 1.4782999753952026, 1.3566999435424805, 1.3523999452590942, 1.125599980354309, 1.3828999996185303, 0.8619999885559082, 1.2587000131607056, 1.0857000350952148, 1.1448999643325806, 1.1970000267028809, 0.8037999868392944, 1.05649995803833, 0.9330000281333923, 1.1490000486373901, 1.0245000123977661, 0.7493000030517578, 0.32170000672340393, 0.03220000118017197, -0.12110000103712082, -0.03970000147819519, -0.06780000030994415, 1.4844000339508057, 1.4830000400543213, 1.4825999736785889, 1.4824999570846558, 1.482200026512146, 1.4812999963760376, 1.4811999797821045, 1.4809999465942383, 1.4803999662399292, 1.4779000282287598, 1.4775999784469604, 1.4773000478744507, 1.476699948310852, 1.4763000011444092, 1.476199984550476, 1.4752999544143677, 1.4737000465393066, 1.4736000299453735, 1.4733999967575073, 1.4726999998092651, 1.472000002861023, 1.472000002861023, 1.4704999923706055, 1.468999981880188, 1.468000054359436, 1.467900037765503, 1.4677000045776367, 1.4673999547958374, 1.4665000438690186, 1.4651000499725342, 1.4464999437332153, 1.4134999513626099, 1.3756999969482422, 1.3464000225067139, 1.4246000051498413, 1.198699951171875, 1.3733999729156494, 1.073099970817566, 1.254699945449829, 1.0270999670028687, 0.929099977016449, 1.145799994468689, 1.120300054550171, 1.1532000303268433, 0.5735999941825867, 0.36559998989105225, 1.117900013923645, 0.583299994468689, 0.8472999930381775, 0.43630000948905945, 0.38029998540878296, 0.3880999982357025, 0.7092000246047974, 0.6330000162124634, 0.5239999890327454, 0.4832000136375427, 0.5857999920845032, 0.18700000643730164, 0.42160001397132874, -0.10689999908208847, 0.46880000829696655, 0.6585000157356262, -0.5210000276565552], \"logprob\": [30.0, 29.0, 28.0, 27.0, 26.0, 25.0, 24.0, 23.0, 22.0, 21.0, 20.0, 19.0, 18.0, 17.0, 16.0, 15.0, 14.0, 13.0, 12.0, 11.0, 10.0, 9.0, 8.0, 7.0, 6.0, 5.0, 4.0, 3.0, 2.0, 1.0, -5.088699817657471, -5.359000205993652, -5.67549991607666, -5.706399917602539, -5.833399772644043, -5.8420000076293945, -5.8277997970581055, -5.8572001457214355, -5.966899871826172, -5.973100185394287, -5.993100166320801, -6.002399921417236, -6.024899959564209, -6.119200229644775, -6.156799793243408, -6.187900066375732, -6.204100131988525, -6.211400032043457, -6.195400238037109, -6.256199836730957, -6.296800136566162, -6.306399822235107, -6.380899906158447, -6.39109992980957, -6.422100067138672, -6.394700050354004, -6.42609977722168, -6.42140007019043, -6.465799808502197, -6.491499900817871, -6.489699840545654, -6.300099849700928, -5.302800178527832, -5.762700080871582, -4.985499858856201, -5.014800071716309, -5.048900127410889, -5.696199893951416, -4.909200191497803, -5.828400135040283, -4.741300106048584, -4.778600215911865, -5.348800182342529, -5.117599964141846, -5.190499782562256, -5.775100231170654, -5.538000106811523, -5.773600101470947, -5.256400108337402, -5.160799980163574, -5.456900119781494, -5.23769998550415, -5.361800193786621, -5.140600204467773, -5.583600044250488, -5.5457000732421875, -5.450300216674805, -5.437699794769287, -5.6528000831604, -5.605599880218506, -5.69980001449585, -5.6992998123168945, -5.352799892425537, -5.371500015258789, -5.3856000900268555, -5.502500057220459, -5.577400207519531, -5.658699989318848, -5.817599773406982, -5.843500137329102, -5.898600101470947, -5.935400009155273, -5.957399845123291, -6.0096001625061035, -6.09060001373291, -6.16349983215332, -6.178599834442139, -6.231200218200684, -6.154600143432617, -6.280200004577637, -6.303699970245361, -6.286300182342529, -6.365300178527832, -6.42519998550415, -6.42579984664917, -6.414299964904785, -6.41510009765625, -6.558000087738037, -6.5640997886657715, -6.587100028991699, -6.5894999504089355, -6.619800090789795, -6.363100051879883, -5.553899765014648, -6.020899772644043, -5.859099864959717, -4.0355000495910645, -5.696000099182129, -5.980299949645996, -4.932700157165527, -5.434299945831299, -5.5177001953125, -5.164100170135498, -5.8317999839782715, -4.412099838256836, -5.551599979400635, -5.766900062561035, -5.279300212860107, -5.588200092315674, -5.795400142669678, -5.333099842071533, -5.392600059509277, -5.744699954986572, -5.469399929046631, -5.4095001220703125, -5.676400184631348, -5.607999801635742, -5.540200233459473, -5.623799800872803, -5.782100200653076, -5.76609992980957, -5.78849983215332, -4.719099998474121, -4.86329984664917, -4.888500213623047, -5.012499809265137, -5.072199821472168, -5.308499813079834, -5.341599941253662, -5.476399898529053, -5.55019998550415, -5.57919979095459, -5.613999843597412, -5.667500019073486, -5.7027997970581055, -5.80210018157959, -5.909999847412109, -5.395899772644043, -5.953499794006348, -5.984000205993652, -6.038599967956543, -5.86359977722168, -6.082799911499023, -6.1072001457214355, -6.125500202178955, -6.140999794006348, -6.155300140380859, -6.185299873352051, -6.172599792480469, -6.192999839782715, -6.189700126647949, -6.231900215148926, -4.621399879455566, -4.270100116729736, -4.4309000968933105, -5.328100204467773, -6.003300189971924, -5.189300060272217, -5.163000106811523, -5.64109992980957, -4.8653998374938965, -4.969299793243408, -5.33620023727417, -5.652299880981445, -5.329699993133545, -5.765900135040283, -5.69890022277832, -5.7307000160217285, -5.676499843597412, -5.643199920654297, -4.138599872589111, -4.41480016708374, -4.4903998374938965, -4.616199970245361, -4.910999774932861, -5.0971999168396, -5.197400093078613, -5.481500148773193, -5.492800235748291, -5.6417999267578125, -5.7692999839782715, -5.818299770355225, -5.819200038909912, -5.851399898529053, -5.92140007019043, -5.920100212097168, -5.934800148010254, -5.908100128173828, -5.971700191497803, -6.020699977874756, -6.076300144195557, -6.061200141906738, -6.192200183868408, -6.202499866485596, -6.233399868011475, -6.270500183105469, -6.283199787139893, -6.287700176239014, -6.346799850463867, -6.415900230407715, -5.031499862670898, -6.019400119781494, -5.729300022125244, -5.911600112915039, -4.59660005569458, -4.827400207519531, -5.071700096130371, -6.057499885559082, -5.5, -5.507900238037109, -4.653299808502197, -5.652699947357178, -4.541600227355957, -5.520199775695801, -5.3282999992370605, -5.468900203704834, -5.598400115966797, -5.190400123596191, -5.473899841308594, -5.410399913787842, -5.635499954223633, -5.588699817657471, -5.614699840545654, -5.537300109863281, -5.487299919128418, -5.579100131988525, -5.602499961853027, -5.610199928283691, -5.268599987030029, -5.515399932861328, -5.5594000816345215, -5.594299793243408, -5.622600078582764, -5.738100051879883, -5.746600151062012, -5.767000198364258, -5.847899913787842, -6.10129976272583, -6.124300003051758, -6.145400047302246, -6.190400123596191, -6.159800052642822, -6.196000099182129, -6.306399822235107, -6.396200180053711, -6.429999828338623, -6.381199836730957, -6.461599826812744, -6.519800186157227, -6.519599914550781, -6.590199947357178, -6.673299789428711, -6.686999797821045, -6.740300178527832, -6.75439977645874, -6.701000213623047, -6.7505998611450195, -6.851399898529053, -5.260000228881836, -5.875, -5.730899810791016, -5.644599914550781, -6.355500221252441, -5.083099842071533, -6.174600124359131, -4.725100040435791, -5.615600109100342, -5.40310001373291, -5.3769001960754395, -5.820000171661377, -5.781599998474121, -5.844299793243408, -4.884399890899658, -4.583700180053711, -5.811399936676025, -5.218400001525879, -5.5167999267578125, -5.126399993896484, -5.154600143432617, -5.162799835205078, -5.452600002288818, -5.397900104522705, -5.345200061798096, -5.365600109100342, -5.496699810028076, -5.355400085449219, -5.530600070953369, -5.510499954223633, -5.7042999267578125, -5.713799953460693, -5.700200080871582]}, \"token.table\": {\"Topic\": [4, 4, 1, 2, 3, 4, 3, 4, 5, 3, 4, 4, 4, 1, 2, 4, 5, 2, 4, 1, 5, 2, 3, 5, 2, 5, 2, 5, 1, 2, 3, 4, 5, 1, 1, 3, 5, 4, 3, 1, 2, 3, 4, 5, 1, 2, 3, 4, 5, 3, 4, 3, 1, 3, 4, 5, 2, 1, 1, 4, 1, 2, 4, 5, 1, 3, 4, 5, 1, 1, 2, 3, 4, 5, 1, 4, 5, 1, 4, 1, 1, 2, 3, 5, 4, 2, 5, 2, 3, 5, 4, 1, 1, 2, 1, 2, 5, 1, 4, 2, 5, 3, 1, 2, 2, 4, 2, 5, 1, 4, 5, 1, 3, 1, 1, 2, 4, 5, 1, 5, 5, 3, 5, 2, 5, 4, 1, 1, 2, 1, 3, 1, 2, 4, 5, 1, 4, 2, 3, 3, 4, 1, 2, 3, 4, 5, 4, 1, 2, 3, 4, 5, 1, 1, 2, 4, 5, 4, 2, 3, 4, 5, 4, 1, 4, 5, 3, 2, 2, 2, 3, 4, 5, 3, 1, 3, 4, 1, 2, 1, 2, 5, 3, 1, 3, 4, 5, 3, 3, 2, 1, 2, 3, 5, 1, 2, 2, 1, 2, 3, 4, 5, 2, 2, 2, 5, 2, 4, 2, 1, 2, 3, 5, 4, 5, 1, 5, 3, 2, 3, 5, 1, 2, 3, 4, 5, 3, 2, 1, 2, 3, 4, 5, 1, 2, 3, 4, 5, 2, 1, 1, 2, 3, 4, 5, 1, 2, 3, 4, 1, 2, 5, 4, 5, 1, 1, 5, 5, 2, 2, 3, 1, 3, 4, 2, 4, 5, 1, 2, 3, 1, 2, 3, 4, 5, 1, 2, 3, 4, 5, 1, 2, 5, 1, 2, 3, 4, 5, 5, 2, 4, 5, 2, 1, 1, 2, 3, 4, 5, 5, 4, 5, 1, 2, 3, 4, 5, 3, 4, 5, 5, 4, 4, 5, 4, 1, 5, 1, 2, 5, 5, 4, 1, 1, 3, 5, 1, 4, 3, 1, 4, 4, 3, 2, 1, 2, 3, 4, 5, 3, 2, 4, 4, 3, 1, 2, 5, 1, 2, 1, 2, 4, 5, 3, 2, 5, 5, 1, 2, 3, 4, 5, 1, 1, 1, 4, 3, 1, 2, 4, 5, 2, 4, 5, 3, 4, 1, 2, 5, 2, 1, 3, 4, 5, 2, 5, 3, 1, 3, 5, 5, 2, 3, 4, 5, 2, 2, 4, 2, 1, 2, 3, 4, 5, 2, 2, 3, 5, 1, 2, 4, 3, 1, 3, 4, 5, 4, 3, 1, 2, 3, 4, 5, 4, 5, 1, 4, 5, 2, 3, 4, 5, 3, 1, 5, 2, 5, 3, 5, 5, 1, 5, 1, 2, 4, 5, 4, 1, 2, 4, 5, 1, 3, 4, 5, 1, 4, 5, 4, 1, 3, 5, 5, 1, 2, 2, 1, 2, 4, 5, 2, 4, 2, 3, 2, 5, 1, 1, 2, 3, 4, 5, 1, 2, 3, 5, 1, 2, 3, 4, 5, 5, 4, 1, 4, 3, 5], \"Freq\": [0.9938228726387024, 0.9965022802352905, 0.2158338874578476, 0.06278803944587708, 0.15304584801197052, 0.5650923848152161, 0.9904505610466003, 0.9095196723937988, 0.08554888516664505, 0.29280799627304077, 0.7015191912651062, 0.9974152445793152, 0.9938511848449707, 0.1629021018743515, 0.1495128870010376, 0.6873129606246948, 0.9835118651390076, 0.9946424961090088, 0.993135929107666, 0.1047186478972435, 0.8901085257530212, 0.18608982861042023, 0.01993819698691368, 0.7908817529678345, 0.9687843322753906, 0.026725083589553833, 0.9062709808349609, 0.08631151914596558, 0.14406512677669525, 0.44387635588645935, 0.012654369696974754, 0.07495280355215073, 0.3251199722290039, 0.995019793510437, 0.9943694472312927, 0.987095832824707, 0.9877216815948486, 0.9851440787315369, 0.9726305603981018, 0.1276317536830902, 0.1439947932958603, 0.09490566700696945, 0.17344827950000763, 0.4581652879714966, 0.030187925323843956, 0.7437207102775574, 0.10977427661418915, 0.0027443568687886, 0.11526299268007278, 0.9911820292472839, 0.9952543377876282, 0.9798163771629333, 0.04337187856435776, 0.3013204336166382, 0.24881762266159058, 0.4040432870388031, 0.9941487312316895, 0.9820987582206726, 0.01119812112301588, 0.9742364883422852, 0.6093651056289673, 0.07031136006116867, 0.015624746680259705, 0.2968702018260956, 0.11556559801101685, 0.04280207306146622, 0.20973016321659088, 0.6291904449462891, 0.9721804857254028, 0.004443619400262833, 0.2888352572917938, 0.435474693775177, 0.08887238800525665, 0.18218839168548584, 0.17998231947422028, 0.6993598937988281, 0.11313174664974213, 0.9829912185668945, 0.9908453822135925, 0.9693423509597778, 0.9934853911399841, 0.23398736119270325, 0.05118473619222641, 0.709274172782898, 0.9926148056983948, 0.9862558245658875, 0.015173166058957577, 0.5210665464401245, 0.044432032853364944, 0.4362417757511139, 0.9880595803260803, 0.9849293828010559, 0.04198742285370827, 0.9552138447761536, 0.9710590243339539, 0.9952985048294067, 0.9929594993591309, 0.06588814407587051, 0.9338928461074829, 0.9799401164054871, 0.9792795181274414, 0.9897646903991699, 0.21304327249526978, 0.7855970859527588, 0.012528368271887302, 0.9772127270698547, 0.9891680479049683, 0.9878934025764465, 0.9906129837036133, 0.9944913387298584, 0.9781941175460815, 0.29190734028816223, 0.7076541781425476, 0.9915925860404968, 0.12852215766906738, 0.22302372753620148, 0.07560126483440399, 0.5707895755767822, 0.9856113195419312, 0.9863029718399048, 0.9822359681129456, 0.9895142316818237, 0.9972189664840698, 0.9939658641815186, 0.9872753620147705, 0.9882375597953796, 0.9845339059829712, 0.7577072978019714, 0.23018956184387207, 0.9804965257644653, 0.9903802275657654, 0.26688337326049805, 0.4093719720840454, 0.205816850066185, 0.11534789949655533, 0.018678486347198486, 0.9806205034255981, 0.1828484982252121, 0.8131946325302124, 0.012930046766996384, 0.982683539390564, 0.19415178894996643, 0.21212880313396454, 0.0305609293282032, 0.2139265090227127, 0.3487541377544403, 0.9853970408439636, 0.20653696358203888, 0.4241383969783783, 0.055322401225566864, 0.06269872188568115, 0.24710671603679657, 0.983778715133667, 0.10920301824808121, 0.16835466027259827, 0.06370176374912262, 0.6597682237625122, 0.9817906618118286, 0.8133948445320129, 0.03062480501830578, 0.022049859166145325, 0.13352414965629578, 0.9868214726448059, 0.9863735437393188, 0.9938870668411255, 0.9759783148765564, 0.9807202816009521, 0.9913121461868286, 0.9777332544326782, 0.7129396796226501, 0.08301352709531784, 0.04883148521184921, 0.15626075863838196, 0.9712320566177368, 0.9865110516548157, 0.10977642983198166, 0.8860526084899902, 0.9738315939903259, 0.9894545078277588, 0.12831708788871765, 0.15850934386253357, 0.7170661091804504, 0.9888732433319092, 0.10566171258687973, 0.5966778993606567, 0.21132342517375946, 0.0870155319571495, 0.9657791256904602, 0.9646292328834534, 0.9917543530464172, 0.9823213815689087, 0.7912194728851318, 0.009649017825722694, 0.19780486822128296, 0.9928898215293884, 0.9936103224754333, 0.9855888485908508, 0.5601364970207214, 0.14570024609565735, 0.02914004772901535, 0.10360906273126602, 0.16188915073871613, 0.9909170269966125, 0.9937084913253784, 0.9915502667427063, 0.9914902448654175, 0.6235438585281372, 0.37412628531455994, 0.9964689016342163, 0.4145109951496124, 0.24179808795452118, 0.20232084393501282, 0.13817033171653748, 0.4727257192134857, 0.5248056650161743, 0.039496976882219315, 0.9592122435569763, 0.9906068444252014, 0.11967971920967102, 0.49825844168663025, 0.3810211420059204, 0.3766261041164398, 0.03197769075632095, 0.10836883634328842, 0.15100575983524323, 0.3322126567363739, 0.9965404868125916, 0.9894230961799622, 0.3874903917312622, 0.0789332315325737, 0.0251151192933321, 0.2152724415063858, 0.29779353737831116, 0.12537525594234467, 0.4119472801685333, 0.09552400559186935, 0.17910751700401306, 0.1910480111837387, 0.994053065776825, 0.9796963334083557, 0.11333021521568298, 0.23799344897270203, 0.05018909275531769, 0.19751837849617004, 0.39989376068115234, 0.17646148800849915, 0.07058459520339966, 0.4764460027217865, 0.28233838081359863, 0.04427456855773926, 0.2066146582365036, 0.7489781379699707, 0.9851659536361694, 0.9968050718307495, 0.9774318337440491, 0.127472385764122, 0.8698115944862366, 0.9883356690406799, 0.9903160333633423, 0.012597071938216686, 0.9825716018676758, 0.9714818596839905, 0.9730945229530334, 0.9974439144134521, 0.1698351800441742, 0.7824549674987793, 0.04245879501104355, 0.6928079128265381, 0.09780817478895187, 0.20376703143119812, 0.14330050349235535, 0.2574101686477661, 0.1034948080778122, 0.15391534566879272, 0.34498268365859985, 0.29926005005836487, 0.3582051992416382, 0.015869850292801857, 0.21991078555583954, 0.10882183164358139, 0.5026280879974365, 0.08795992285013199, 0.40629106760025024, 0.1686534285545349, 0.026064621284604073, 0.07512743771076202, 0.5274252891540527, 0.2023841142654419, 0.9930543303489685, 0.20817051827907562, 0.6387050151824951, 0.1513967365026474, 0.9892674088478088, 0.9900193214416504, 0.37873905897140503, 0.10157092660665512, 0.1428879201412201, 0.2306865155696869, 0.14633099734783173, 0.9710525870323181, 0.9977977275848389, 0.9878901839256287, 0.253491073846817, 0.2936999797821045, 0.04370535537600517, 0.07866964489221573, 0.33041250705718994, 0.6827249526977539, 0.3125728666782379, 0.9790622591972351, 0.9898839592933655, 0.9964829087257385, 0.8653967976570129, 0.1311207264661789, 0.9857725501060486, 0.9355090260505676, 0.040674302726984024, 0.062447402626276016, 0.7857965230941772, 0.15091456472873688, 0.9847691059112549, 0.9810256361961365, 0.9755465984344482, 0.6853325963020325, 0.3100314140319824, 0.9858365058898926, 0.0944565162062645, 0.902584433555603, 0.9801833033561707, 0.01853599213063717, 0.9777736067771912, 0.9924035668373108, 0.9858379364013672, 0.9889211654663086, 0.3812940716743469, 0.2556913197040558, 0.1121453121304512, 0.06280137598514557, 0.1884041279554367, 0.9799243807792664, 0.9937692880630493, 0.9988632202148438, 0.9868633151054382, 0.969463050365448, 0.5560154914855957, 0.0827404037117958, 0.36074817180633545, 0.9964436888694763, 0.9903096556663513, 0.5014150142669678, 0.23832689225673676, 0.0711885467171669, 0.18880441784858704, 0.9902448654174805, 0.9824942350387573, 0.972257673740387, 0.9932777285575867, 0.39468416571617126, 0.13747425377368927, 0.36807623505592346, 0.08869306743144989, 0.017738614231348038, 0.985793948173523, 0.9742637276649475, 0.9894589781761169, 0.9808661937713623, 0.9814501404762268, 0.6026550531387329, 0.19315867125988007, 0.1854323148727417, 0.015452693216502666, 0.23266375064849854, 0.07755458354949951, 0.6909408569335938, 0.8917191028594971, 0.08492562919855118, 0.006058995611965656, 0.6907255053520203, 0.30294978618621826, 0.9893395304679871, 0.06297837197780609, 0.320617139339447, 0.18320979177951813, 0.4351232647895813, 0.9207029342651367, 0.07753288000822067, 0.9743769764900208, 0.3059282898902893, 0.6435043215751648, 0.042197003960609436, 0.9878281950950623, 0.14391186833381653, 0.010279418900609016, 0.6219048500061035, 0.22614721953868866, 0.9980469346046448, 0.6707972884178162, 0.3282625079154968, 0.989482581615448, 0.9789332747459412, 0.17224548757076263, 0.1693747341632843, 0.2354021817445755, 0.4248722195625305, 0.9922500252723694, 0.5773786902427673, 0.015114624984562397, 0.4050719738006592, 0.4496590197086334, 0.24175216257572174, 0.3070252537727356, 0.977472722530365, 0.3428190052509308, 0.08299828320741653, 0.23095174133777618, 0.3392103612422943, 0.992652952671051, 0.9911482930183411, 0.23604276776313782, 0.23956580460071564, 0.0440378300845623, 0.20785856246948242, 0.27127304673194885, 0.10101279616355896, 0.8922796845436096, 0.2590095102787018, 0.7400271892547607, 0.9945641160011292, 0.7029294371604919, 0.016347195953130722, 0.19289691746234894, 0.08827485889196396, 0.992644727230072, 0.30182945728302, 0.692835807800293, 0.07067994028329849, 0.9289363622665405, 0.9957498908042908, 0.989452600479126, 0.9890606999397278, 0.04952578619122505, 0.9409899711608887, 0.4650323987007141, 0.0892486423254013, 0.15970809757709503, 0.2818378210067749, 0.9853329658508301, 0.21848948299884796, 0.452585369348526, 0.08583515882492065, 0.24189907312393188, 0.22141069173812866, 0.013838168233633041, 0.4981740713119507, 0.2656928300857544, 0.11186554282903671, 0.8620226979255676, 0.026321303099393845, 0.9844201803207397, 0.15428096055984497, 0.42076626420021057, 0.42076626420021057, 0.9943369626998901, 0.05269823968410492, 0.9397852420806885, 0.9925532937049866, 0.33742856979370117, 0.24888348579406738, 0.047862209379673004, 0.36614590883255005, 0.3369022309780121, 0.6611706614494324, 0.9836864471435547, 0.9828137755393982, 0.8283047676086426, 0.16566094756126404, 0.9923567771911621, 0.25408369302749634, 0.15299662947654724, 0.1393362283706665, 0.17212121188640594, 0.2814045250415802, 0.19981099665164948, 0.4380472004413605, 0.3048398494720459, 0.056356947869062424, 0.39972275495529175, 0.18794910609722137, 0.013235852122306824, 0.11382833123207092, 0.2832472324371338, 0.9736170172691345, 0.9916096925735474, 0.7320561408996582, 0.257208913564682, 0.9933692812919617, 0.9921237826347351], \"Term\": [\"0\", \"1\", \"10\", \"10\", \"10\", \"10\", \"17\", \"2\", \"2\", \"20\", \"20\", \"3\", \"4\", \"5\", \"5\", \"5\", \"80\", \"9\", \"access\", \"advice\", \"advice\", \"always\", \"always\", \"always\", \"america\", \"america\", \"american\", \"american\", \"amp\", \"amp\", \"amp\", \"amp\", \"amp\", \"answer\", \"anything\", \"art\", \"author\", \"awesome\", \"b\", \"best\", \"best\", \"best\", \"best\", \"best\", \"big\", \"big\", \"big\", \"big\", \"big\", \"billionaire\", \"blog\", \"body\", \"book\", \"book\", \"book\", \"book\", \"border\", \"brain\", \"bullet\", \"bullet\", \"call\", \"call\", \"call\", \"call\", \"car\", \"car\", \"car\", \"car\", \"cc\", \"change\", \"change\", \"change\", \"change\", \"change\", \"check\", \"check\", \"check\", \"clinton\", \"code\", \"coffee\", \"collusion\", \"coming\", \"coming\", \"coming\", \"conference\", \"congratulations\", \"congratulations\", \"country\", \"country\", \"country\", \"cran\", \"creative\", \"crime\", \"crime\", \"crook\", \"cut\", \"daily\", \"data\", \"data\", \"de\", \"decision\", \"definitely\", \"democrat\", \"democrat\", \"design\", \"design\", \"drug\", \"elon\", \"email\", \"enjoy\", \"entrepreneur\", \"episode\", \"episode\", \"etc\", \"ever\", \"ever\", \"ever\", \"ever\", \"exactly\", \"example\", \"excellent\", \"explain\", \"fake\", \"falcon\", \"fat\", \"favorite\", \"fbi\", \"fear\", \"fear\", \"fearlesstv\", \"ferriss\", \"first\", \"first\", \"first\", \"first\", \"friday\", \"friday\", \"full\", \"full\", \"fun\", \"fun\", \"get\", \"get\", \"get\", \"get\", \"get\", \"ggplot2\", \"go\", \"go\", \"go\", \"go\", \"go\", \"goal\", \"good\", \"good\", \"good\", \"good\", \"goody\", \"great\", \"great\", \"great\", \"great\", \"gt\", \"guest\", \"guide\", \"guitar\", \"guy\", \"heavy\", \"hellmuth\", \"high\", \"high\", \"high\", \"high\", \"highly\", \"hillary\", \"hour\", \"hour\", \"hunt\", \"immigration\", \"important\", \"important\", \"important\", \"impossible\", \"interview\", \"interview\", \"interview\", \"interview\", \"invest\", \"investing\", \"investor\", \"issue\", \"job\", \"job\", \"job\", \"journal\", \"kevin\", \"king\", \"know\", \"know\", \"know\", \"know\", \"know\", \"korea\", \"la\", \"land\", \"language\", \"last\", \"last\", \"launch\", \"le\", \"le\", \"le\", \"le\", \"learn\", \"learn\", \"learning\", \"learning\", \"lesson\", \"life\", \"life\", \"life\", \"like\", \"like\", \"like\", \"like\", \"like\", \"listen\", \"listening\", \"look\", \"look\", \"look\", \"look\", \"look\", \"love\", \"love\", \"love\", \"love\", \"love\", \"magic\", \"mail\", \"make\", \"make\", \"make\", \"make\", \"make\", \"man\", \"man\", \"man\", \"man\", \"many\", \"many\", \"many\", \"master\", \"medium\", \"mental\", \"mentor\", \"mentor\", \"might\", \"military\", \"mind\", \"mind\", \"mini\", \"minutes\", \"model\", \"month\", \"month\", \"month\", \"morning\", \"morning\", \"morning\", \"much\", \"much\", \"much\", \"much\", \"much\", \"need\", \"need\", \"need\", \"need\", \"need\", \"never\", \"never\", \"never\", \"new\", \"new\", \"new\", \"new\", \"new\", \"news\", \"next\", \"next\", \"next\", \"north\", \"ok\", \"one\", \"one\", \"one\", \"one\", \"one\", \"overcome\", \"package\", \"parent\", \"people\", \"people\", \"people\", \"people\", \"people\", \"performance\", \"performance\", \"personal\", \"player\", \"podcast\", \"post\", \"post\", \"pound\", \"practice\", \"practice\", \"president\", \"president\", \"president\", \"prodigy\", \"project\", \"pull\", \"question\", \"question\", \"quote\", \"r\", \"r\", \"random\", \"read\", \"read\", \"reading\", \"recommend\", \"republican\", \"right\", \"right\", \"right\", \"right\", \"right\", \"robbins\", \"rocket\", \"rstats\", \"rstudio\", \"ryan\", \"say\", \"say\", \"say\", \"science\", \"security\", \"see\", \"see\", \"see\", \"see\", \"self\", \"senate\", \"sense\", \"shape\", \"show\", \"show\", \"show\", \"show\", \"show\", \"simple\", \"skill\", \"sleep\", \"software\", \"solar\", \"something\", \"something\", \"something\", \"something\", \"soon\", \"soon\", \"soon\", \"startup\", \"startup\", \"state\", \"state\", \"state\", \"stock\", \"story\", \"story\", \"story\", \"story\", \"strong\", \"strong\", \"study\", \"success\", \"success\", \"success\", \"super\", \"talk\", \"talk\", \"talk\", \"talk\", \"tax\", \"tbt\", \"tbt\", \"tech\", \"template\", \"tesla\", \"tesla\", \"tesla\", \"tesla\", \"testing\", \"thank\", \"thank\", \"thank\", \"thanks\", \"thanks\", \"thanks\", \"thetimferrissshow\", \"think\", \"think\", \"think\", \"think\", \"tidyverse\", \"tim\", \"time\", \"time\", \"time\", \"time\", \"time\", \"times\", \"times\", \"tip\", \"tip\", \"titan\", \"today\", \"today\", \"today\", \"today\", \"tony\", \"tool\", \"tool\", \"trade\", \"trade\", \"travel\", \"tribe\", \"trick\", \"truth\", \"truth\", \"try\", \"try\", \"try\", \"try\", \"update\", \"us\", \"us\", \"us\", \"us\", \"use\", \"use\", \"use\", \"use\", \"using\", \"using\", \"using\", \"version\", \"via\", \"via\", \"via\", \"video\", \"vote\", \"vote\", \"wall\", \"want\", \"want\", \"want\", \"want\", \"week\", \"week\", \"weekend\", \"white\", \"win\", \"win\", \"witch\", \"work\", \"work\", \"work\", \"work\", \"work\", \"world\", \"world\", \"world\", \"world\", \"would\", \"would\", \"would\", \"would\", \"would\", \"writer\", \"x\", \"yeah\", \"yeah\", \"yes\", \"york\"]}, \"R\": 30, \"lambda.step\": 0.01, \"plot.opts\": {\"xlab\": \"PC1\", \"ylab\": \"PC2\"}, \"topic.order\": [1, 2, 3, 4, 5]};\n",
       "\n",
       "function LDAvis_load_lib(url, callback){\n",
       "  var s = document.createElement('script');\n",
       "  s.src = url;\n",
       "  s.async = true;\n",
       "  s.onreadystatechange = s.onload = callback;\n",
       "  s.onerror = function(){console.warn(\"failed to load library \" + url);};\n",
       "  document.getElementsByTagName(\"head\")[0].appendChild(s);\n",
       "}\n",
       "\n",
       "if(typeof(LDAvis) !== \"undefined\"){\n",
       "   // already loaded: just create the visualization\n",
       "   !function(LDAvis){\n",
       "       new LDAvis(\"#\" + \"ldavis_el1352427645215619281946821215\", ldavis_el1352427645215619281946821215_data);\n",
       "   }(LDAvis);\n",
       "}else if(typeof define === \"function\" && define.amd){\n",
       "   // require.js is available: use it to load d3/LDAvis\n",
       "   require.config({paths: {d3: \"https://cdnjs.cloudflare.com/ajax/libs/d3/3.5.5/d3.min\"}});\n",
       "   require([\"d3\"], function(d3){\n",
       "      window.d3 = d3;\n",
       "      LDAvis_load_lib(\"https://cdn.rawgit.com/bmabey/pyLDAvis/files/ldavis.v1.0.0.js\", function(){\n",
       "        new LDAvis(\"#\" + \"ldavis_el1352427645215619281946821215\", ldavis_el1352427645215619281946821215_data);\n",
       "      });\n",
       "    });\n",
       "}else{\n",
       "    // require.js not available: dynamically load d3 & LDAvis\n",
       "    LDAvis_load_lib(\"https://cdnjs.cloudflare.com/ajax/libs/d3/3.5.5/d3.min.js\", function(){\n",
       "         LDAvis_load_lib(\"https://cdn.rawgit.com/bmabey/pyLDAvis/files/ldavis.v1.0.0.js\", function(){\n",
       "                 new LDAvis(\"#\" + \"ldavis_el1352427645215619281946821215\", ldavis_el1352427645215619281946821215_data);\n",
       "            })\n",
       "         });\n",
       "}\n",
       "</script>"
      ],
      "text/plain": [
       "<IPython.core.display.HTML object>"
      ]
     },
     "execution_count": 251,
     "metadata": {},
     "output_type": "execute_result"
    }
   ],
   "source": [
    "#load dictionary, corpus and model\n",
    "dictionary = gensim.corpora.Dictionary.load('dictionary.gensim')\n",
    "corpus = pickle.load(open('corpus.pkl', 'rb'))\n",
    "lda = gensim.models.ldamodel.LdaModel.load('model5.gensim')\n",
    "\n",
    "#create visualization of topic modeling\n",
    "lda_display = pyLDAvis.gensim.prepare(lda, corpus, dictionary, sort_topics=False)\n",
    "pyLDAvis.display(lda_display)"
   ]
  },
  {
   "cell_type": "code",
   "execution_count": null,
   "metadata": {
    "collapsed": true
   },
   "outputs": [],
   "source": []
  },
  {
   "cell_type": "code",
   "execution_count": null,
   "metadata": {
    "collapsed": true
   },
   "outputs": [],
   "source": []
  }
 ],
 "metadata": {
  "kernelspec": {
   "display_name": "Python 3",
   "language": "python",
   "name": "python3"
  },
  "language_info": {
   "codemirror_mode": {
    "name": "ipython",
    "version": 3
   },
   "file_extension": ".py",
   "mimetype": "text/x-python",
   "name": "python",
   "nbconvert_exporter": "python",
   "pygments_lexer": "ipython3",
   "version": "3.6.3"
  }
 },
 "nbformat": 4,
 "nbformat_minor": 2
}
